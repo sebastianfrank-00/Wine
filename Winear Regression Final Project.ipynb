{
 "cells": [
  {
   "cell_type": "markdown",
   "metadata": {},
   "source": [
    "# Winear Regression 🍷\n",
    "by Sebastian Frank\n",
    "\n",
    "## Table of Contents\n",
    "\n",
    "- [Introduction](#Introduction)\n",
    "- [Descriptive Analytics Research Question Set](#Descriptive-Analytics-Research-Question-Set)\n",
    "- [Inference Research Question Set](#Inference-Research-Question-Set)\n",
    "- [Linear Regression Research Question Set](#Linear-Regression-Research-Question-Set)\n",
    "- [Logistic Regression Research Question Set](#Logistic-Regression-Research-Question-Set)\n",
    "- [Other Classifiers](#Other-Classifiers) \n",
    "- [Conclusion](#Conclusion)\n",
    "- [Sources](#Sources)"
   ]
  },
  {
   "cell_type": "markdown",
   "metadata": {},
   "source": [
    "## Introduction\n",
    "- [Table of Contents](#Table-of-Contents)"
   ]
  },
  {
   "cell_type": "markdown",
   "metadata": {},
   "source": [
    "Motivation: The subjectivity of wine preferences and ratings is a centuries old debate. In modern times, it has pitted the elite 'sommelier' wine experts, who undergo years of training and specialization, against the masses. Many highly publicized reports and videos have poked fun at and even discredited the role that certain factors, such as price, play in influencing the perceived quality of a wine. For example, a study recorded in the Journal of Wine Economics found that \"Individuals who are unaware of the price do not derive more enjoyment from more expensive wine\" (Goldstein et al). The busting of myths such as this one have inspired researchers to determine a more objective algorithm with which to classify wine as being of 'good' or 'bad' quality. The following dataset, collected from the UCI Machine Learning Repository, contains physical and chemical information on thousands of red wines, along with their perceived 'good' or 'bad' quality based on a 1-10 scoring system, where scores less than 5 imply 'bad' quality and those over 5 imply 'good' quality. The motivation for the following project is to attempt to refine models which can consistently rate wine quality without the subjectivity of a human taster. "
   ]
  },
  {
   "cell_type": "markdown",
   "metadata": {},
   "source": [
    "Research Questions:\n",
    "1. What is the relationship between fixed acidity (influences sweet and bitter flavors in wine) and volatile acidity (high amounts leads to vinegary flavor in wine) in the red wines in this dataset, and how is that relationship impacted based on wine quality? \n",
    "2. Is there a difference between the mean pH of 'bad' quality red wines and the mean pH of 'good' quality red wines?\n",
    "3. Is there a linear relationship between pH and chlorides, sulfates, volatile acidity, and fixed acidity in the sample and in the relevant population?\n",
    "4. Is there a linear relationship between the log-odds of the success level of wine quality and fixed acidity, volatile acidity, citric acid, residual sugar, chlorides, free sulfur dioxide, total sulfur dioxide, density, pH, sulphates, and alcohol in the sample and in the relevant population? Which of these features should be selected to ensure a parsimonious model is utilized?\n",
    "\n",
    "These are interesting questions for the purpose of finding relationships between physiochemical properties of wine (which are objective and quantitative) to classify wines in 'good' or 'bad' quality buckets. The answers to these questions could be used in the development of more advanced research, data gathering, and model construction to more accurately rate wine quality. "
   ]
  },
  {
   "cell_type": "markdown",
   "metadata": {},
   "source": [
    "Dataset:"
   ]
  },
  {
   "cell_type": "code",
   "execution_count": 1,
   "metadata": {},
   "outputs": [],
   "source": [
    "import pandas as pd \n",
    "import numpy as np\n",
    "import statsmodels.formula.api as smf\n",
    "import seaborn as sns\n",
    "import matplotlib.pyplot as plt\n",
    "import sklearn as skl\n",
    "from sklearn.model_selection import train_test_split, GridSearchCV\n",
    "from sklearn.neighbors import KNeighborsClassifier\n",
    "from sklearn.metrics import roc_auc_score, roc_curve, plot_confusion_matrix, confusion_matrix\n",
    "from sklearn.preprocessing import StandardScaler"
   ]
  },
  {
   "cell_type": "code",
   "execution_count": 2,
   "metadata": {},
   "outputs": [],
   "source": [
    "winedf = pd.read_csv('wine.csv')"
   ]
  },
  {
   "cell_type": "code",
   "execution_count": 3,
   "metadata": {},
   "outputs": [
    {
     "data": {
      "text/html": [
       "<div>\n",
       "<style scoped>\n",
       "    .dataframe tbody tr th:only-of-type {\n",
       "        vertical-align: middle;\n",
       "    }\n",
       "\n",
       "    .dataframe tbody tr th {\n",
       "        vertical-align: top;\n",
       "    }\n",
       "\n",
       "    .dataframe thead th {\n",
       "        text-align: right;\n",
       "    }\n",
       "</style>\n",
       "<table border=\"1\" class=\"dataframe\">\n",
       "  <thead>\n",
       "    <tr style=\"text-align: right;\">\n",
       "      <th></th>\n",
       "      <th>fixed acidity</th>\n",
       "      <th>volatile acidity</th>\n",
       "      <th>citric acid</th>\n",
       "      <th>residual sugar</th>\n",
       "      <th>chlorides</th>\n",
       "      <th>free sulfur dioxide</th>\n",
       "      <th>total sulfur dioxide</th>\n",
       "      <th>density</th>\n",
       "      <th>pH</th>\n",
       "      <th>sulphates</th>\n",
       "      <th>alcohol</th>\n",
       "      <th>quality</th>\n",
       "    </tr>\n",
       "  </thead>\n",
       "  <tbody>\n",
       "    <tr>\n",
       "      <th>0</th>\n",
       "      <td>7.4</td>\n",
       "      <td>0.70</td>\n",
       "      <td>0.00</td>\n",
       "      <td>1.9</td>\n",
       "      <td>0.076</td>\n",
       "      <td>11.0</td>\n",
       "      <td>34.0</td>\n",
       "      <td>0.9978</td>\n",
       "      <td>3.51</td>\n",
       "      <td>0.56</td>\n",
       "      <td>9.4</td>\n",
       "      <td>bad</td>\n",
       "    </tr>\n",
       "    <tr>\n",
       "      <th>1</th>\n",
       "      <td>7.8</td>\n",
       "      <td>0.88</td>\n",
       "      <td>0.00</td>\n",
       "      <td>2.6</td>\n",
       "      <td>0.098</td>\n",
       "      <td>25.0</td>\n",
       "      <td>67.0</td>\n",
       "      <td>0.9968</td>\n",
       "      <td>3.20</td>\n",
       "      <td>0.68</td>\n",
       "      <td>9.8</td>\n",
       "      <td>bad</td>\n",
       "    </tr>\n",
       "    <tr>\n",
       "      <th>2</th>\n",
       "      <td>7.8</td>\n",
       "      <td>0.76</td>\n",
       "      <td>0.04</td>\n",
       "      <td>2.3</td>\n",
       "      <td>0.092</td>\n",
       "      <td>15.0</td>\n",
       "      <td>54.0</td>\n",
       "      <td>0.9970</td>\n",
       "      <td>3.26</td>\n",
       "      <td>0.65</td>\n",
       "      <td>9.8</td>\n",
       "      <td>bad</td>\n",
       "    </tr>\n",
       "    <tr>\n",
       "      <th>3</th>\n",
       "      <td>11.2</td>\n",
       "      <td>0.28</td>\n",
       "      <td>0.56</td>\n",
       "      <td>1.9</td>\n",
       "      <td>0.075</td>\n",
       "      <td>17.0</td>\n",
       "      <td>60.0</td>\n",
       "      <td>0.9980</td>\n",
       "      <td>3.16</td>\n",
       "      <td>0.58</td>\n",
       "      <td>9.8</td>\n",
       "      <td>good</td>\n",
       "    </tr>\n",
       "    <tr>\n",
       "      <th>4</th>\n",
       "      <td>7.4</td>\n",
       "      <td>0.70</td>\n",
       "      <td>0.00</td>\n",
       "      <td>1.9</td>\n",
       "      <td>0.076</td>\n",
       "      <td>11.0</td>\n",
       "      <td>34.0</td>\n",
       "      <td>0.9978</td>\n",
       "      <td>3.51</td>\n",
       "      <td>0.56</td>\n",
       "      <td>9.4</td>\n",
       "      <td>bad</td>\n",
       "    </tr>\n",
       "  </tbody>\n",
       "</table>\n",
       "</div>"
      ],
      "text/plain": [
       "   fixed acidity  volatile acidity  citric acid  residual sugar  chlorides  \\\n",
       "0            7.4              0.70         0.00             1.9      0.076   \n",
       "1            7.8              0.88         0.00             2.6      0.098   \n",
       "2            7.8              0.76         0.04             2.3      0.092   \n",
       "3           11.2              0.28         0.56             1.9      0.075   \n",
       "4            7.4              0.70         0.00             1.9      0.076   \n",
       "\n",
       "   free sulfur dioxide  total sulfur dioxide  density    pH  sulphates  \\\n",
       "0                 11.0                  34.0   0.9978  3.51       0.56   \n",
       "1                 25.0                  67.0   0.9968  3.20       0.68   \n",
       "2                 15.0                  54.0   0.9970  3.26       0.65   \n",
       "3                 17.0                  60.0   0.9980  3.16       0.58   \n",
       "4                 11.0                  34.0   0.9978  3.51       0.56   \n",
       "\n",
       "   alcohol quality  \n",
       "0      9.4     bad  \n",
       "1      9.8     bad  \n",
       "2      9.8     bad  \n",
       "3      9.8    good  \n",
       "4      9.4     bad  "
      ]
     },
     "execution_count": 3,
     "metadata": {},
     "output_type": "execute_result"
    }
   ],
   "source": [
    "winedf.head()"
   ]
  },
  {
   "cell_type": "code",
   "execution_count": 4,
   "metadata": {},
   "outputs": [
    {
     "data": {
      "text/html": [
       "<div>\n",
       "<style scoped>\n",
       "    .dataframe tbody tr th:only-of-type {\n",
       "        vertical-align: middle;\n",
       "    }\n",
       "\n",
       "    .dataframe tbody tr th {\n",
       "        vertical-align: top;\n",
       "    }\n",
       "\n",
       "    .dataframe thead th {\n",
       "        text-align: right;\n",
       "    }\n",
       "</style>\n",
       "<table border=\"1\" class=\"dataframe\">\n",
       "  <thead>\n",
       "    <tr style=\"text-align: right;\">\n",
       "      <th></th>\n",
       "      <th>fixed acidity</th>\n",
       "      <th>volatile acidity</th>\n",
       "      <th>citric acid</th>\n",
       "      <th>residual sugar</th>\n",
       "      <th>chlorides</th>\n",
       "      <th>free sulfur dioxide</th>\n",
       "      <th>total sulfur dioxide</th>\n",
       "      <th>density</th>\n",
       "      <th>pH</th>\n",
       "      <th>sulphates</th>\n",
       "      <th>alcohol</th>\n",
       "    </tr>\n",
       "  </thead>\n",
       "  <tbody>\n",
       "    <tr>\n",
       "      <th>count</th>\n",
       "      <td>1599.000000</td>\n",
       "      <td>1599.000000</td>\n",
       "      <td>1599.000000</td>\n",
       "      <td>1599.000000</td>\n",
       "      <td>1599.000000</td>\n",
       "      <td>1599.000000</td>\n",
       "      <td>1599.000000</td>\n",
       "      <td>1599.000000</td>\n",
       "      <td>1599.000000</td>\n",
       "      <td>1599.000000</td>\n",
       "      <td>1599.000000</td>\n",
       "    </tr>\n",
       "    <tr>\n",
       "      <th>mean</th>\n",
       "      <td>8.319637</td>\n",
       "      <td>0.527821</td>\n",
       "      <td>0.270976</td>\n",
       "      <td>2.538806</td>\n",
       "      <td>0.087467</td>\n",
       "      <td>15.874922</td>\n",
       "      <td>46.467792</td>\n",
       "      <td>0.996747</td>\n",
       "      <td>3.311113</td>\n",
       "      <td>0.658149</td>\n",
       "      <td>10.422983</td>\n",
       "    </tr>\n",
       "    <tr>\n",
       "      <th>std</th>\n",
       "      <td>1.741096</td>\n",
       "      <td>0.179060</td>\n",
       "      <td>0.194801</td>\n",
       "      <td>1.409928</td>\n",
       "      <td>0.047065</td>\n",
       "      <td>10.460157</td>\n",
       "      <td>32.895324</td>\n",
       "      <td>0.001887</td>\n",
       "      <td>0.154386</td>\n",
       "      <td>0.169507</td>\n",
       "      <td>1.065668</td>\n",
       "    </tr>\n",
       "    <tr>\n",
       "      <th>min</th>\n",
       "      <td>4.600000</td>\n",
       "      <td>0.120000</td>\n",
       "      <td>0.000000</td>\n",
       "      <td>0.900000</td>\n",
       "      <td>0.012000</td>\n",
       "      <td>1.000000</td>\n",
       "      <td>6.000000</td>\n",
       "      <td>0.990070</td>\n",
       "      <td>2.740000</td>\n",
       "      <td>0.330000</td>\n",
       "      <td>8.400000</td>\n",
       "    </tr>\n",
       "    <tr>\n",
       "      <th>25%</th>\n",
       "      <td>7.100000</td>\n",
       "      <td>0.390000</td>\n",
       "      <td>0.090000</td>\n",
       "      <td>1.900000</td>\n",
       "      <td>0.070000</td>\n",
       "      <td>7.000000</td>\n",
       "      <td>22.000000</td>\n",
       "      <td>0.995600</td>\n",
       "      <td>3.210000</td>\n",
       "      <td>0.550000</td>\n",
       "      <td>9.500000</td>\n",
       "    </tr>\n",
       "    <tr>\n",
       "      <th>50%</th>\n",
       "      <td>7.900000</td>\n",
       "      <td>0.520000</td>\n",
       "      <td>0.260000</td>\n",
       "      <td>2.200000</td>\n",
       "      <td>0.079000</td>\n",
       "      <td>14.000000</td>\n",
       "      <td>38.000000</td>\n",
       "      <td>0.996750</td>\n",
       "      <td>3.310000</td>\n",
       "      <td>0.620000</td>\n",
       "      <td>10.200000</td>\n",
       "    </tr>\n",
       "    <tr>\n",
       "      <th>75%</th>\n",
       "      <td>9.200000</td>\n",
       "      <td>0.640000</td>\n",
       "      <td>0.420000</td>\n",
       "      <td>2.600000</td>\n",
       "      <td>0.090000</td>\n",
       "      <td>21.000000</td>\n",
       "      <td>62.000000</td>\n",
       "      <td>0.997835</td>\n",
       "      <td>3.400000</td>\n",
       "      <td>0.730000</td>\n",
       "      <td>11.100000</td>\n",
       "    </tr>\n",
       "    <tr>\n",
       "      <th>max</th>\n",
       "      <td>15.900000</td>\n",
       "      <td>1.580000</td>\n",
       "      <td>1.000000</td>\n",
       "      <td>15.500000</td>\n",
       "      <td>0.611000</td>\n",
       "      <td>72.000000</td>\n",
       "      <td>289.000000</td>\n",
       "      <td>1.003690</td>\n",
       "      <td>4.010000</td>\n",
       "      <td>2.000000</td>\n",
       "      <td>14.900000</td>\n",
       "    </tr>\n",
       "  </tbody>\n",
       "</table>\n",
       "</div>"
      ],
      "text/plain": [
       "       fixed acidity  volatile acidity  citric acid  residual sugar  \\\n",
       "count    1599.000000       1599.000000  1599.000000     1599.000000   \n",
       "mean        8.319637          0.527821     0.270976        2.538806   \n",
       "std         1.741096          0.179060     0.194801        1.409928   \n",
       "min         4.600000          0.120000     0.000000        0.900000   \n",
       "25%         7.100000          0.390000     0.090000        1.900000   \n",
       "50%         7.900000          0.520000     0.260000        2.200000   \n",
       "75%         9.200000          0.640000     0.420000        2.600000   \n",
       "max        15.900000          1.580000     1.000000       15.500000   \n",
       "\n",
       "         chlorides  free sulfur dioxide  total sulfur dioxide      density  \\\n",
       "count  1599.000000          1599.000000           1599.000000  1599.000000   \n",
       "mean      0.087467            15.874922             46.467792     0.996747   \n",
       "std       0.047065            10.460157             32.895324     0.001887   \n",
       "min       0.012000             1.000000              6.000000     0.990070   \n",
       "25%       0.070000             7.000000             22.000000     0.995600   \n",
       "50%       0.079000            14.000000             38.000000     0.996750   \n",
       "75%       0.090000            21.000000             62.000000     0.997835   \n",
       "max       0.611000            72.000000            289.000000     1.003690   \n",
       "\n",
       "                pH    sulphates      alcohol  \n",
       "count  1599.000000  1599.000000  1599.000000  \n",
       "mean      3.311113     0.658149    10.422983  \n",
       "std       0.154386     0.169507     1.065668  \n",
       "min       2.740000     0.330000     8.400000  \n",
       "25%       3.210000     0.550000     9.500000  \n",
       "50%       3.310000     0.620000    10.200000  \n",
       "75%       3.400000     0.730000    11.100000  \n",
       "max       4.010000     2.000000    14.900000  "
      ]
     },
     "execution_count": 4,
     "metadata": {},
     "output_type": "execute_result"
    }
   ],
   "source": [
    "winedf.describe()"
   ]
  },
  {
   "cell_type": "code",
   "execution_count": 5,
   "metadata": {},
   "outputs": [
    {
     "data": {
      "text/plain": [
       "(1599, 12)"
      ]
     },
     "execution_count": 5,
     "metadata": {},
     "output_type": "execute_result"
    }
   ],
   "source": [
    "winedf.shape"
   ]
  },
  {
   "cell_type": "markdown",
   "metadata": {},
   "source": [
    "## Descriptive Analytics Research Question Set\n",
    "- [Table of Contents](#Table-of-Contents)"
   ]
  },
  {
   "cell_type": "markdown",
   "metadata": {},
   "source": [
    "Research Question: What is the relationship between fixed acidity (influences sweet and bitter flavors in wine) and volatile acidity (high amounts leads to vinegary flavor in wine) in the red wines in this dataset, and how is that relationship impacted based on wine quality? "
   ]
  },
  {
   "cell_type": "code",
   "execution_count": 6,
   "metadata": {},
   "outputs": [],
   "source": [
    "acid_group = winedf[['quality', 'fixed acidity', 'volatile acidity']].groupby('quality').agg(['mean'])"
   ]
  },
  {
   "cell_type": "code",
   "execution_count": 7,
   "metadata": {},
   "outputs": [
    {
     "data": {
      "image/png": "[encoded data removed]",
      "text/plain": [
       "<Figure size 432x288 with 1 Axes>"
      ]
     },
     "metadata": {
      "needs_background": "light"
     },
     "output_type": "display_data"
    }
   ],
   "source": [
    "acid_group.plot.bar()\n",
    "plt.xlabel('Quality')\n",
    "plt.ylabel('Acidity Concentration (g/dm3)')\n",
    "plt.legend(['Fixed acidity', 'Volatile Acidity'], loc = 'center right')\n",
    "plt.title('Mean Acidity Concentration by Wine Quality')\n",
    "plt.show()"
   ]
  },
  {
   "cell_type": "code",
   "execution_count": 8,
   "metadata": {},
   "outputs": [
    {
     "data": {
      "text/html": [
       "<div>\n",
       "<style scoped>\n",
       "    .dataframe tbody tr th:only-of-type {\n",
       "        vertical-align: middle;\n",
       "    }\n",
       "\n",
       "    .dataframe tbody tr th {\n",
       "        vertical-align: top;\n",
       "    }\n",
       "\n",
       "    .dataframe thead tr th {\n",
       "        text-align: left;\n",
       "    }\n",
       "\n",
       "    .dataframe thead tr:last-of-type th {\n",
       "        text-align: right;\n",
       "    }\n",
       "</style>\n",
       "<table border=\"1\" class=\"dataframe\">\n",
       "  <thead>\n",
       "    <tr>\n",
       "      <th></th>\n",
       "      <th>fixed acidity</th>\n",
       "      <th>volatile acidity</th>\n",
       "    </tr>\n",
       "    <tr>\n",
       "      <th></th>\n",
       "      <th>mean</th>\n",
       "      <th>mean</th>\n",
       "    </tr>\n",
       "    <tr>\n",
       "      <th>quality</th>\n",
       "      <th></th>\n",
       "      <th></th>\n",
       "    </tr>\n",
       "  </thead>\n",
       "  <tbody>\n",
       "    <tr>\n",
       "      <th>bad</th>\n",
       "      <td>8.142204</td>\n",
       "      <td>0.589503</td>\n",
       "    </tr>\n",
       "    <tr>\n",
       "      <th>good</th>\n",
       "      <td>8.474035</td>\n",
       "      <td>0.474146</td>\n",
       "    </tr>\n",
       "  </tbody>\n",
       "</table>\n",
       "</div>"
      ],
      "text/plain": [
       "        fixed acidity volatile acidity\n",
       "                 mean             mean\n",
       "quality                               \n",
       "bad          8.142204         0.589503\n",
       "good         8.474035         0.474146"
      ]
     },
     "execution_count": 8,
     "metadata": {},
     "output_type": "execute_result"
    }
   ],
   "source": [
    "acid_group"
   ]
  },
  {
   "cell_type": "markdown",
   "metadata": {},
   "source": [
    "The visualization and summary statistics are useful in observing and confirming the relationship between different acid concentrations and the quality of the wine. We know that volatile acidity concentration affects the vinegary flavor and odor of wine, and that fixed acidity contributes bitter or sweet flavors in different combinations. We would expect that wine of 'bad' quality would contain higher concentrations of volatile acid, and lower concentrations of fixed acids as compared to their 'good' quality peers. This seems to hold true in the visualization and summary statistics, although the differences are miniscule. However, this would seem to indicate that ceterus parabus, even a small difference in acid concentrations between two bottles of wine could influence dramatically different wine qualities. "
   ]
  },
  {
   "cell_type": "markdown",
   "metadata": {},
   "source": [
    "## Inference Research Question Set\n",
    "- [Table of Contents](#Table-of-Contents)"
   ]
  },
  {
   "cell_type": "markdown",
   "metadata": {},
   "source": [
    "Research Question: Is there a difference between the mean pH of 'bad' quality red wines and the mean pH of 'good' quality red wines? \n",
    "\n",
    "${H_o}: \\mu{_{bad}} - \\mu{_{good}} = 0$\n",
    "\n",
    "${H_a}: \\mu{_{bad}} - \\mu{_{good}} \\neq{0}$\n",
    "\n",
    "Conditions:\n",
    "The sample data is random and independent. In addition, the quantity of red wines presented in the data is a small proportion of the total quantity of red wines in circulation, and the data also follows an approximately normal distribution. "
   ]
  },
  {
   "cell_type": "code",
   "execution_count": 9,
   "metadata": {},
   "outputs": [
    {
     "data": {
      "text/html": [
       "<div>\n",
       "<style scoped>\n",
       "    .dataframe tbody tr th:only-of-type {\n",
       "        vertical-align: middle;\n",
       "    }\n",
       "\n",
       "    .dataframe tbody tr th {\n",
       "        vertical-align: top;\n",
       "    }\n",
       "\n",
       "    .dataframe thead tr th {\n",
       "        text-align: left;\n",
       "    }\n",
       "\n",
       "    .dataframe thead tr:last-of-type th {\n",
       "        text-align: right;\n",
       "    }\n",
       "</style>\n",
       "<table border=\"1\" class=\"dataframe\">\n",
       "  <thead>\n",
       "    <tr>\n",
       "      <th></th>\n",
       "      <th colspan=\"2\" halign=\"left\">pH</th>\n",
       "    </tr>\n",
       "    <tr>\n",
       "      <th></th>\n",
       "      <th>mean</th>\n",
       "      <th>std</th>\n",
       "    </tr>\n",
       "    <tr>\n",
       "      <th>quality</th>\n",
       "      <th></th>\n",
       "      <th></th>\n",
       "    </tr>\n",
       "  </thead>\n",
       "  <tbody>\n",
       "    <tr>\n",
       "      <th>bad</th>\n",
       "      <td>3.311653</td>\n",
       "      <td>0.154296</td>\n",
       "    </tr>\n",
       "    <tr>\n",
       "      <th>good</th>\n",
       "      <td>3.310643</td>\n",
       "      <td>0.154554</td>\n",
       "    </tr>\n",
       "  </tbody>\n",
       "</table>\n",
       "</div>"
      ],
      "text/plain": [
       "               pH          \n",
       "             mean       std\n",
       "quality                    \n",
       "bad      3.311653  0.154296\n",
       "good     3.310643  0.154554"
      ]
     },
     "execution_count": 9,
     "metadata": {},
     "output_type": "execute_result"
    }
   ],
   "source": [
    "winedf[['pH', 'quality']].groupby('quality').agg(['mean', 'std'])"
   ]
  },
  {
   "cell_type": "code",
   "execution_count": 10,
   "metadata": {},
   "outputs": [
    {
     "data": {
      "text/plain": [
       "good    855\n",
       "bad     744\n",
       "Name: quality, dtype: int64"
      ]
     },
     "execution_count": 10,
     "metadata": {},
     "output_type": "execute_result"
    }
   ],
   "source": [
    "winedf.quality.value_counts()"
   ]
  },
  {
   "cell_type": "code",
   "execution_count": 11,
   "metadata": {},
   "outputs": [
    {
     "name": "stdout",
     "output_type": "stream",
     "text": [
      "95% Confidence Interval: ( -0.014179598185831947 , 0.016199598185832748 )\n"
     ]
    }
   ],
   "source": [
    "print('95% Confidence Interval:', '(', \n",
    "      3.311653 - 3.310643 - 1.962 * np.sqrt((0.154296 ** 2 / 744) + (0.154554 ** 2 / 855)), ',', \n",
    "      3.311653 - 3.310643 + 1.962 * np.sqrt((0.154296 ** 2 / 744) + (0.154554 ** 2 / 855)), ')', \n",
    "     )"
   ]
  },
  {
   "cell_type": "markdown",
   "metadata": {},
   "source": [
    "Based on the generated confidence interval, we are 95% confident that the true difference in population pH means for bad and good red wines lies between -0.014179598185831947 and 0.016199598185832748. If we were to generate 100 random samples and create confidence intervals for each of those samples, 95 of them would contain the true population value. Because the confidence interval includes 0, we fail to reject the null hypothesis that there is no discernible difference between pH levels for bad and good red wines. "
   ]
  },
  {
   "cell_type": "markdown",
   "metadata": {},
   "source": [
    "This conclusion answers our research question by demonstrating that there is no significant difference between pH levels for red wines rated as being of 'good' quality and those with 'bad' quality ratings. An important implication of this finding is that using pH levels as a feature variable, or 'regressor', may not be useful to classifying red wine as 'good' or 'bad'.  "
   ]
  },
  {
   "cell_type": "markdown",
   "metadata": {},
   "source": [
    "## Linear Regression Research Question Set\n",
    "- [Table of Contents](#Table-of-Contents)"
   ]
  },
  {
   "cell_type": "markdown",
   "metadata": {},
   "source": [
    "Research Question: Is there a linear relationship between pH and fixed acidity, volatile acidity, citric acid, and chlorides in the sample and in the relevant population? "
   ]
  },
  {
   "cell_type": "code",
   "execution_count": 12,
   "metadata": {},
   "outputs": [],
   "source": [
    "winedf.rename(columns = {'residual sugar': 'residual_sugar', 'fixed acidity': 'fixed_acidity', \n",
    "                        'volatile acidity': 'volatile_acidity', 'citric acid': 'citric_acid', \n",
    "                        'free sulfur dioxide': 'free_sulfur_dioxide', 'total sulfur dioxide':\n",
    "                        'total_sulfur_dioxide'}, inplace = True)"
   ]
  },
  {
   "cell_type": "code",
   "execution_count": 13,
   "metadata": {},
   "outputs": [
    {
     "data": {
      "text/html": [
       "<table class=\"simpletable\">\n",
       "<caption>OLS Regression Results</caption>\n",
       "<tr>\n",
       "  <th>Dep. Variable:</th>           <td>pH</td>        <th>  R-squared:         </th> <td>   0.514</td> \n",
       "</tr>\n",
       "<tr>\n",
       "  <th>Model:</th>                   <td>OLS</td>       <th>  Adj. R-squared:    </th> <td>   0.513</td> \n",
       "</tr>\n",
       "<tr>\n",
       "  <th>Method:</th>             <td>Least Squares</td>  <th>  F-statistic:       </th> <td>   421.8</td> \n",
       "</tr>\n",
       "<tr>\n",
       "  <th>Date:</th>             <td>Mon, 02 May 2022</td> <th>  Prob (F-statistic):</th> <td>5.08e-248</td>\n",
       "</tr>\n",
       "<tr>\n",
       "  <th>Time:</th>                 <td>16:27:04</td>     <th>  Log-Likelihood:    </th> <td>  1296.3</td> \n",
       "</tr>\n",
       "<tr>\n",
       "  <th>No. Observations:</th>      <td>  1599</td>      <th>  AIC:               </th> <td>  -2583.</td> \n",
       "</tr>\n",
       "<tr>\n",
       "  <th>Df Residuals:</th>          <td>  1594</td>      <th>  BIC:               </th> <td>  -2556.</td> \n",
       "</tr>\n",
       "<tr>\n",
       "  <th>Df Model:</th>              <td>     4</td>      <th>                     </th>     <td> </td>    \n",
       "</tr>\n",
       "<tr>\n",
       "  <th>Covariance Type:</th>      <td>nonrobust</td>    <th>                     </th>     <td> </td>    \n",
       "</tr>\n",
       "</table>\n",
       "<table class=\"simpletable\">\n",
       "<tr>\n",
       "          <td></td>            <th>coef</th>     <th>std err</th>      <th>t</th>      <th>P>|t|</th>  <th>[0.025</th>    <th>0.975]</th>  \n",
       "</tr>\n",
       "<tr>\n",
       "  <th>Intercept</th>        <td>    3.7924</td> <td>    0.021</td> <td>  181.661</td> <td> 0.000</td> <td>    3.751</td> <td>    3.833</td>\n",
       "</tr>\n",
       "<tr>\n",
       "  <th>fixed_acidity</th>    <td>   -0.0571</td> <td>    0.002</td> <td>  -35.299</td> <td> 0.000</td> <td>   -0.060</td> <td>   -0.054</td>\n",
       "</tr>\n",
       "<tr>\n",
       "  <th>volatile_acidity</th> <td>    0.0779</td> <td>    0.016</td> <td>    4.790</td> <td> 0.000</td> <td>    0.046</td> <td>    0.110</td>\n",
       "</tr>\n",
       "<tr>\n",
       "  <th>sulphates</th>        <td>    0.0241</td> <td>    0.018</td> <td>    1.337</td> <td> 0.181</td> <td>   -0.011</td> <td>    0.060</td>\n",
       "</tr>\n",
       "<tr>\n",
       "  <th>chlorides</th>        <td>   -0.7218</td> <td>    0.063</td> <td>  -11.493</td> <td> 0.000</td> <td>   -0.845</td> <td>   -0.599</td>\n",
       "</tr>\n",
       "</table>\n",
       "<table class=\"simpletable\">\n",
       "<tr>\n",
       "  <th>Omnibus:</th>       <td>47.410</td> <th>  Durbin-Watson:     </th> <td>   1.587</td>\n",
       "</tr>\n",
       "<tr>\n",
       "  <th>Prob(Omnibus):</th> <td> 0.000</td> <th>  Jarque-Bera (JB):  </th> <td> 116.677</td>\n",
       "</tr>\n",
       "<tr>\n",
       "  <th>Skew:</th>          <td>-0.028</td> <th>  Prob(JB):          </th> <td>4.61e-26</td>\n",
       "</tr>\n",
       "<tr>\n",
       "  <th>Kurtosis:</th>      <td> 4.322</td> <th>  Cond. No.          </th> <td>    202.</td>\n",
       "</tr>\n",
       "</table><br/><br/>Notes:<br/>[1] Standard Errors assume that the covariance matrix of the errors is correctly specified."
      ],
      "text/plain": [
       "<class 'statsmodels.iolib.summary.Summary'>\n",
       "\"\"\"\n",
       "                            OLS Regression Results                            \n",
       "==============================================================================\n",
       "Dep. Variable:                     pH   R-squared:                       0.514\n",
       "Model:                            OLS   Adj. R-squared:                  0.513\n",
       "Method:                 Least Squares   F-statistic:                     421.8\n",
       "Date:                Mon, 02 May 2022   Prob (F-statistic):          5.08e-248\n",
       "Time:                        16:27:04   Log-Likelihood:                 1296.3\n",
       "No. Observations:                1599   AIC:                            -2583.\n",
       "Df Residuals:                    1594   BIC:                            -2556.\n",
       "Df Model:                           4                                         \n",
       "Covariance Type:            nonrobust                                         \n",
       "====================================================================================\n",
       "                       coef    std err          t      P>|t|      [0.025      0.975]\n",
       "------------------------------------------------------------------------------------\n",
       "Intercept            3.7924      0.021    181.661      0.000       3.751       3.833\n",
       "fixed_acidity       -0.0571      0.002    -35.299      0.000      -0.060      -0.054\n",
       "volatile_acidity     0.0779      0.016      4.790      0.000       0.046       0.110\n",
       "sulphates            0.0241      0.018      1.337      0.181      -0.011       0.060\n",
       "chlorides           -0.7218      0.063    -11.493      0.000      -0.845      -0.599\n",
       "==============================================================================\n",
       "Omnibus:                       47.410   Durbin-Watson:                   1.587\n",
       "Prob(Omnibus):                  0.000   Jarque-Bera (JB):              116.677\n",
       "Skew:                          -0.028   Prob(JB):                     4.61e-26\n",
       "Kurtosis:                       4.322   Cond. No.                         202.\n",
       "==============================================================================\n",
       "\n",
       "Notes:\n",
       "[1] Standard Errors assume that the covariance matrix of the errors is correctly specified.\n",
       "\"\"\""
      ]
     },
     "execution_count": 13,
     "metadata": {},
     "output_type": "execute_result"
    }
   ],
   "source": [
    "linearmodel = smf.ols('pH ~ fixed_acidity + volatile_acidity + sulphates + chlorides', data = winedf).fit()\n",
    "linearmodel.summary()"
   ]
  },
  {
   "cell_type": "markdown",
   "metadata": {},
   "source": [
    "$\\hat{pH} = 3.7924 - 0.0571_{fixed acidity} + 0.0779_{volatile acidity} + 0.0241_{sulphates} - .7218_{chlorides}$"
   ]
  },
  {
   "cell_type": "code",
   "execution_count": 14,
   "metadata": {},
   "outputs": [
    {
     "name": "stderr",
     "output_type": "stream",
     "text": [
      "/Users/sebastianfrank/opt/anaconda3/lib/python3.8/site-packages/seaborn/_decorators.py:36: FutureWarning: Pass the following variables as keyword args: x, y. From version 0.12, the only valid positional argument will be `data`, and passing other arguments without an explicit keyword will result in an error or misinterpretation.\n",
      "  warnings.warn(\n"
     ]
    },
    {
     "data": {
      "image/png": "[encoded data removed]",
      "text/plain": [
       "<Figure size 432x288 with 1 Axes>"
      ]
     },
     "metadata": {
      "needs_background": "light"
     },
     "output_type": "display_data"
    }
   ],
   "source": [
    "sns.scatterplot(linearmodel.fittedvalues, linearmodel.resid)\n",
    "plt.title('Residual Plot')\n",
    "plt.xlabel('Predicted pH Values')\n",
    "plt.ylabel('Residual Values')\n",
    "plt.show()"
   ]
  },
  {
   "cell_type": "code",
   "execution_count": 15,
   "metadata": {},
   "outputs": [
    {
     "data": {
      "image/png": "[encoded data removed]",
      "text/plain": [
       "<Figure size 432x288 with 1 Axes>"
      ]
     },
     "metadata": {
      "needs_background": "light"
     },
     "output_type": "display_data"
    }
   ],
   "source": [
    "plt.hist(linearmodel.resid)\n",
    "plt.title('Histogram of Residual Distribution')\n",
    "plt.xlabel('Residual Value')\n",
    "plt.ylabel('Count')\n",
    "plt.show()"
   ]
  },
  {
   "cell_type": "code",
   "execution_count": 16,
   "metadata": {},
   "outputs": [
    {
     "data": {
      "image/png": "[encoded data removed]",
      "text/plain": [
       "<Figure size 900x900 with 30 Axes>"
      ]
     },
     "metadata": {
      "needs_background": "light"
     },
     "output_type": "display_data"
    }
   ],
   "source": [
    "sns.pairplot(winedf[['pH', 'fixed_acidity', 'volatile_acidity', 'sulphates', 'chlorides']])\n",
    "plt.show()"
   ]
  },
  {
   "cell_type": "markdown",
   "metadata": {},
   "source": [
    "Only 51.4% of the variation in pH is explained by these four feature variables. This is a relatively low percentage. "
   ]
  },
  {
   "cell_type": "code",
   "execution_count": 17,
   "metadata": {},
   "outputs": [
    {
     "data": {
      "text/html": [
       "<div>\n",
       "<style scoped>\n",
       "    .dataframe tbody tr th:only-of-type {\n",
       "        vertical-align: middle;\n",
       "    }\n",
       "\n",
       "    .dataframe tbody tr th {\n",
       "        vertical-align: top;\n",
       "    }\n",
       "\n",
       "    .dataframe thead th {\n",
       "        text-align: right;\n",
       "    }\n",
       "</style>\n",
       "<table border=\"1\" class=\"dataframe\">\n",
       "  <thead>\n",
       "    <tr style=\"text-align: right;\">\n",
       "      <th></th>\n",
       "      <th>pH</th>\n",
       "      <th>fixed_acidity</th>\n",
       "      <th>volatile_acidity</th>\n",
       "      <th>sulphates</th>\n",
       "      <th>chlorides</th>\n",
       "    </tr>\n",
       "  </thead>\n",
       "  <tbody>\n",
       "    <tr>\n",
       "      <th>pH</th>\n",
       "      <td>1.000000</td>\n",
       "      <td>-0.682978</td>\n",
       "      <td>0.234937</td>\n",
       "      <td>-0.196648</td>\n",
       "      <td>-0.265026</td>\n",
       "    </tr>\n",
       "    <tr>\n",
       "      <th>fixed_acidity</th>\n",
       "      <td>-0.682978</td>\n",
       "      <td>1.000000</td>\n",
       "      <td>-0.256131</td>\n",
       "      <td>0.183006</td>\n",
       "      <td>0.093705</td>\n",
       "    </tr>\n",
       "    <tr>\n",
       "      <th>volatile_acidity</th>\n",
       "      <td>0.234937</td>\n",
       "      <td>-0.256131</td>\n",
       "      <td>1.000000</td>\n",
       "      <td>-0.260987</td>\n",
       "      <td>0.061298</td>\n",
       "    </tr>\n",
       "    <tr>\n",
       "      <th>sulphates</th>\n",
       "      <td>-0.196648</td>\n",
       "      <td>0.183006</td>\n",
       "      <td>-0.260987</td>\n",
       "      <td>1.000000</td>\n",
       "      <td>0.371260</td>\n",
       "    </tr>\n",
       "    <tr>\n",
       "      <th>chlorides</th>\n",
       "      <td>-0.265026</td>\n",
       "      <td>0.093705</td>\n",
       "      <td>0.061298</td>\n",
       "      <td>0.371260</td>\n",
       "      <td>1.000000</td>\n",
       "    </tr>\n",
       "  </tbody>\n",
       "</table>\n",
       "</div>"
      ],
      "text/plain": [
       "                        pH  fixed_acidity  volatile_acidity  sulphates  \\\n",
       "pH                1.000000      -0.682978          0.234937  -0.196648   \n",
       "fixed_acidity    -0.682978       1.000000         -0.256131   0.183006   \n",
       "volatile_acidity  0.234937      -0.256131          1.000000  -0.260987   \n",
       "sulphates        -0.196648       0.183006         -0.260987   1.000000   \n",
       "chlorides        -0.265026       0.093705          0.061298   0.371260   \n",
       "\n",
       "                  chlorides  \n",
       "pH                -0.265026  \n",
       "fixed_acidity      0.093705  \n",
       "volatile_acidity   0.061298  \n",
       "sulphates          0.371260  \n",
       "chlorides          1.000000  "
      ]
     },
     "execution_count": 17,
     "metadata": {},
     "output_type": "execute_result"
    }
   ],
   "source": [
    "winedf[['pH', 'fixed_acidity', 'volatile_acidity', 'sulphates', 'chlorides']].corr()"
   ]
  },
  {
   "cell_type": "markdown",
   "metadata": {},
   "source": [
    "Linear Regression Conditions: In this case, observations are independent, and the data appears to be linearly related. The feature data and residuals are distributed normally, and there do not appear to be serious quantities of outliers in the residual data. In addition, there is no serious multicollinerity present in the feature variables, nor is there evidence of heteroskedasticity in the residual plot. "
   ]
  },
  {
   "cell_type": "code",
   "execution_count": 18,
   "metadata": {},
   "outputs": [
    {
     "data": {
      "text/html": [
       "<div>\n",
       "<style scoped>\n",
       "    .dataframe tbody tr th:only-of-type {\n",
       "        vertical-align: middle;\n",
       "    }\n",
       "\n",
       "    .dataframe tbody tr th {\n",
       "        vertical-align: top;\n",
       "    }\n",
       "\n",
       "    .dataframe thead th {\n",
       "        text-align: right;\n",
       "    }\n",
       "</style>\n",
       "<table border=\"1\" class=\"dataframe\">\n",
       "  <thead>\n",
       "    <tr style=\"text-align: right;\">\n",
       "      <th></th>\n",
       "      <th>fixed_acidity</th>\n",
       "      <th>volatile_acidity</th>\n",
       "      <th>citric_acid</th>\n",
       "      <th>residual_sugar</th>\n",
       "      <th>chlorides</th>\n",
       "      <th>free_sulfur_dioxide</th>\n",
       "      <th>total_sulfur_dioxide</th>\n",
       "      <th>density</th>\n",
       "      <th>pH</th>\n",
       "      <th>sulphates</th>\n",
       "      <th>alcohol</th>\n",
       "      <th>quality</th>\n",
       "    </tr>\n",
       "  </thead>\n",
       "  <tbody>\n",
       "    <tr>\n",
       "      <th>0</th>\n",
       "      <td>7.4</td>\n",
       "      <td>0.7</td>\n",
       "      <td>0.0</td>\n",
       "      <td>1.9</td>\n",
       "      <td>0.076</td>\n",
       "      <td>11.0</td>\n",
       "      <td>34.0</td>\n",
       "      <td>0.9978</td>\n",
       "      <td>3.51</td>\n",
       "      <td>0.56</td>\n",
       "      <td>9.4</td>\n",
       "      <td>bad</td>\n",
       "    </tr>\n",
       "  </tbody>\n",
       "</table>\n",
       "</div>"
      ],
      "text/plain": [
       "   fixed_acidity  volatile_acidity  citric_acid  residual_sugar  chlorides  \\\n",
       "0            7.4               0.7          0.0             1.9      0.076   \n",
       "\n",
       "   free_sulfur_dioxide  total_sulfur_dioxide  density    pH  sulphates  \\\n",
       "0                 11.0                  34.0   0.9978  3.51       0.56   \n",
       "\n",
       "   alcohol quality  \n",
       "0      9.4     bad  "
      ]
     },
     "execution_count": 18,
     "metadata": {},
     "output_type": "execute_result"
    }
   ],
   "source": [
    "winedf.head(1)"
   ]
  },
  {
   "cell_type": "code",
   "execution_count": 19,
   "metadata": {},
   "outputs": [
    {
     "data": {
      "text/plain": [
       "0    3.382959\n",
       "dtype: float64"
      ]
     },
     "execution_count": 19,
     "metadata": {},
     "output_type": "execute_result"
    }
   ],
   "source": [
    "linearmodel.predict({'fixed_acidity': 7.4, 'volatile_acidity': .70, 'sulphates': 0.56, 'chlorides': .076})"
   ]
  },
  {
   "cell_type": "code",
   "execution_count": 20,
   "metadata": {},
   "outputs": [
    {
     "data": {
      "text/plain": [
       "0.12704099999999974"
      ]
     },
     "execution_count": 20,
     "metadata": {},
     "output_type": "execute_result"
    }
   ],
   "source": [
    "residual = 3.51 - 3.382959\n",
    "residual"
   ]
  },
  {
   "cell_type": "markdown",
   "metadata": {},
   "source": [
    "We have sufficient evidence that three of the four coefficients are statistically significant (i.e not equal to zero), because they have significant t-scores and p-values. On the other hand, the feature ``sulphates`` has a p-value above .05, signalling that it may insignificant in the population model."
   ]
  },
  {
   "cell_type": "markdown",
   "metadata": {},
   "source": [
    "The evidence collected through the linear regression analysis indicates that the relationship between pH and some of the variables linked to acidic content is relatively strong, but leaves the conclusion that more features may need to be taken into consideration to build a stronger model. "
   ]
  },
  {
   "cell_type": "markdown",
   "metadata": {},
   "source": [
    "## Logistic Regression Research Question Set\n",
    "- [Table of Contents](#Table-of-Contents)"
   ]
  },
  {
   "cell_type": "markdown",
   "metadata": {},
   "source": [
    "Research Question: Is there a linear relationship between the log-odds of the success level of wine quality and fixed acidity, volatile acidity, citric acid, residual sugar, chlorides, free sulfur dioxide, total sulfur dioxide, density, pH, sulphates, and alcohol in the sample and in the relevant population? Which of these features should be selected to ensure a parsimonious model is utilized? "
   ]
  },
  {
   "cell_type": "code",
   "execution_count": 21,
   "metadata": {},
   "outputs": [],
   "source": [
    "winedf['quality1'] = winedf['quality'].map({'good': 1, 'bad': 0})"
   ]
  },
  {
   "cell_type": "code",
   "execution_count": 22,
   "metadata": {},
   "outputs": [],
   "source": [
    "xtrain, xtest, ytrain, ytest = train_test_split(winedf[['fixed_acidity', 'volatile_acidity', 'citric_acid', \n",
    "                                                           'residual_sugar', 'chlorides', 'free_sulfur_dioxide', \n",
    "                                                           'total_sulfur_dioxide', 'density', 'pH', 'sulphates', 'alcohol']], winedf['quality1'], \n",
    "                                                   test_size = 0.2)\n",
    "xtrainstd = pd.DataFrame(StandardScaler().fit(xtrain).transform(xtrain),\n",
    "                           columns = xtrain.columns,\n",
    "                           index = xtrain.index)"
   ]
  },
  {
   "cell_type": "code",
   "execution_count": 23,
   "metadata": {},
   "outputs": [
    {
     "data": {
      "text/plain": [
       "(1279, 11)"
      ]
     },
     "execution_count": 23,
     "metadata": {},
     "output_type": "execute_result"
    }
   ],
   "source": [
    "xtrain.shape"
   ]
  },
  {
   "cell_type": "code",
   "execution_count": 24,
   "metadata": {},
   "outputs": [
    {
     "data": {
      "text/plain": [
       "(320, 11)"
      ]
     },
     "execution_count": 24,
     "metadata": {},
     "output_type": "execute_result"
    }
   ],
   "source": [
    "xtest.shape"
   ]
  },
  {
   "cell_type": "code",
   "execution_count": 25,
   "metadata": {},
   "outputs": [],
   "source": [
    "traindf = xtrain.join(ytrain)"
   ]
  },
  {
   "cell_type": "code",
   "execution_count": 26,
   "metadata": {},
   "outputs": [
    {
     "data": {
      "text/html": [
       "<div>\n",
       "<style scoped>\n",
       "    .dataframe tbody tr th:only-of-type {\n",
       "        vertical-align: middle;\n",
       "    }\n",
       "\n",
       "    .dataframe tbody tr th {\n",
       "        vertical-align: top;\n",
       "    }\n",
       "\n",
       "    .dataframe thead th {\n",
       "        text-align: right;\n",
       "    }\n",
       "</style>\n",
       "<table border=\"1\" class=\"dataframe\">\n",
       "  <thead>\n",
       "    <tr style=\"text-align: right;\">\n",
       "      <th></th>\n",
       "      <th>fixed_acidity</th>\n",
       "      <th>volatile_acidity</th>\n",
       "      <th>citric_acid</th>\n",
       "      <th>residual_sugar</th>\n",
       "      <th>chlorides</th>\n",
       "      <th>free_sulfur_dioxide</th>\n",
       "      <th>total_sulfur_dioxide</th>\n",
       "      <th>density</th>\n",
       "      <th>pH</th>\n",
       "      <th>sulphates</th>\n",
       "      <th>alcohol</th>\n",
       "      <th>quality1</th>\n",
       "    </tr>\n",
       "  </thead>\n",
       "  <tbody>\n",
       "    <tr>\n",
       "      <th>524</th>\n",
       "      <td>9.2</td>\n",
       "      <td>0.430</td>\n",
       "      <td>0.49</td>\n",
       "      <td>2.4</td>\n",
       "      <td>0.086</td>\n",
       "      <td>23.0</td>\n",
       "      <td>116.0</td>\n",
       "      <td>0.99760</td>\n",
       "      <td>3.23</td>\n",
       "      <td>0.64</td>\n",
       "      <td>9.5</td>\n",
       "      <td>0</td>\n",
       "    </tr>\n",
       "    <tr>\n",
       "      <th>1122</th>\n",
       "      <td>6.3</td>\n",
       "      <td>0.470</td>\n",
       "      <td>0.00</td>\n",
       "      <td>1.4</td>\n",
       "      <td>0.055</td>\n",
       "      <td>27.0</td>\n",
       "      <td>33.0</td>\n",
       "      <td>0.99220</td>\n",
       "      <td>3.45</td>\n",
       "      <td>0.48</td>\n",
       "      <td>12.3</td>\n",
       "      <td>1</td>\n",
       "    </tr>\n",
       "    <tr>\n",
       "      <th>1531</th>\n",
       "      <td>6.1</td>\n",
       "      <td>0.705</td>\n",
       "      <td>0.10</td>\n",
       "      <td>2.8</td>\n",
       "      <td>0.081</td>\n",
       "      <td>13.0</td>\n",
       "      <td>28.0</td>\n",
       "      <td>0.99631</td>\n",
       "      <td>3.60</td>\n",
       "      <td>0.66</td>\n",
       "      <td>10.2</td>\n",
       "      <td>0</td>\n",
       "    </tr>\n",
       "    <tr>\n",
       "      <th>1388</th>\n",
       "      <td>6.6</td>\n",
       "      <td>0.640</td>\n",
       "      <td>0.31</td>\n",
       "      <td>6.1</td>\n",
       "      <td>0.083</td>\n",
       "      <td>7.0</td>\n",
       "      <td>49.0</td>\n",
       "      <td>0.99718</td>\n",
       "      <td>3.35</td>\n",
       "      <td>0.68</td>\n",
       "      <td>10.3</td>\n",
       "      <td>0</td>\n",
       "    </tr>\n",
       "    <tr>\n",
       "      <th>1361</th>\n",
       "      <td>8.3</td>\n",
       "      <td>0.850</td>\n",
       "      <td>0.14</td>\n",
       "      <td>2.5</td>\n",
       "      <td>0.093</td>\n",
       "      <td>13.0</td>\n",
       "      <td>54.0</td>\n",
       "      <td>0.99724</td>\n",
       "      <td>3.36</td>\n",
       "      <td>0.54</td>\n",
       "      <td>10.1</td>\n",
       "      <td>0</td>\n",
       "    </tr>\n",
       "  </tbody>\n",
       "</table>\n",
       "</div>"
      ],
      "text/plain": [
       "      fixed_acidity  volatile_acidity  citric_acid  residual_sugar  chlorides  \\\n",
       "524             9.2             0.430         0.49             2.4      0.086   \n",
       "1122            6.3             0.470         0.00             1.4      0.055   \n",
       "1531            6.1             0.705         0.10             2.8      0.081   \n",
       "1388            6.6             0.640         0.31             6.1      0.083   \n",
       "1361            8.3             0.850         0.14             2.5      0.093   \n",
       "\n",
       "      free_sulfur_dioxide  total_sulfur_dioxide  density    pH  sulphates  \\\n",
       "524                  23.0                 116.0  0.99760  3.23       0.64   \n",
       "1122                 27.0                  33.0  0.99220  3.45       0.48   \n",
       "1531                 13.0                  28.0  0.99631  3.60       0.66   \n",
       "1388                  7.0                  49.0  0.99718  3.35       0.68   \n",
       "1361                 13.0                  54.0  0.99724  3.36       0.54   \n",
       "\n",
       "      alcohol  quality1  \n",
       "524       9.5         0  \n",
       "1122     12.3         1  \n",
       "1531     10.2         0  \n",
       "1388     10.3         0  \n",
       "1361     10.1         0  "
      ]
     },
     "execution_count": 26,
     "metadata": {},
     "output_type": "execute_result"
    }
   ],
   "source": [
    "traindf.head()"
   ]
  },
  {
   "cell_type": "code",
   "execution_count": 27,
   "metadata": {},
   "outputs": [
    {
     "name": "stdout",
     "output_type": "stream",
     "text": [
      "Optimization terminated successfully.\n",
      "         Current function value: 0.506710\n",
      "         Iterations 7\n"
     ]
    },
    {
     "data": {
      "text/html": [
       "<table class=\"simpletable\">\n",
       "<caption>Logit Regression Results</caption>\n",
       "<tr>\n",
       "  <th>Dep. Variable:</th>       <td>quality1</td>     <th>  No. Observations:  </th>  <td>  1279</td>  \n",
       "</tr>\n",
       "<tr>\n",
       "  <th>Model:</th>                 <td>Logit</td>      <th>  Df Residuals:      </th>  <td>  1267</td>  \n",
       "</tr>\n",
       "<tr>\n",
       "  <th>Method:</th>                 <td>MLE</td>       <th>  Df Model:          </th>  <td>    11</td>  \n",
       "</tr>\n",
       "<tr>\n",
       "  <th>Date:</th>            <td>Mon, 02 May 2022</td> <th>  Pseudo R-squ.:     </th>  <td>0.2666</td>  \n",
       "</tr>\n",
       "<tr>\n",
       "  <th>Time:</th>                <td>16:27:09</td>     <th>  Log-Likelihood:    </th> <td> -648.08</td> \n",
       "</tr>\n",
       "<tr>\n",
       "  <th>converged:</th>             <td>True</td>       <th>  LL-Null:           </th> <td> -883.71</td> \n",
       "</tr>\n",
       "<tr>\n",
       "  <th>Covariance Type:</th>     <td>nonrobust</td>    <th>  LLR p-value:       </th> <td>4.295e-94</td>\n",
       "</tr>\n",
       "</table>\n",
       "<table class=\"simpletable\">\n",
       "<tr>\n",
       "            <td></td>              <th>coef</th>     <th>std err</th>      <th>z</th>      <th>P>|z|</th>  <th>[0.025</th>    <th>0.975]</th>  \n",
       "</tr>\n",
       "<tr>\n",
       "  <th>Intercept</th>            <td>   62.7093</td> <td>   90.661</td> <td>    0.692</td> <td> 0.489</td> <td> -114.984</td> <td>  240.402</td>\n",
       "</tr>\n",
       "<tr>\n",
       "  <th>fixed_acidity</th>        <td>    0.1327</td> <td>    0.112</td> <td>    1.180</td> <td> 0.238</td> <td>   -0.088</td> <td>    0.353</td>\n",
       "</tr>\n",
       "<tr>\n",
       "  <th>volatile_acidity</th>     <td>   -3.6768</td> <td>    0.553</td> <td>   -6.654</td> <td> 0.000</td> <td>   -4.760</td> <td>   -2.594</td>\n",
       "</tr>\n",
       "<tr>\n",
       "  <th>citric_acid</th>          <td>   -1.3189</td> <td>    0.628</td> <td>   -2.100</td> <td> 0.036</td> <td>   -2.550</td> <td>   -0.088</td>\n",
       "</tr>\n",
       "<tr>\n",
       "  <th>residual_sugar</th>       <td>    0.0706</td> <td>    0.062</td> <td>    1.137</td> <td> 0.255</td> <td>   -0.051</td> <td>    0.192</td>\n",
       "</tr>\n",
       "<tr>\n",
       "  <th>chlorides</th>            <td>   -3.8979</td> <td>    1.730</td> <td>   -2.253</td> <td> 0.024</td> <td>   -7.289</td> <td>   -0.507</td>\n",
       "</tr>\n",
       "<tr>\n",
       "  <th>free_sulfur_dioxide</th>  <td>    0.0202</td> <td>    0.009</td> <td>    2.146</td> <td> 0.032</td> <td>    0.002</td> <td>    0.039</td>\n",
       "</tr>\n",
       "<tr>\n",
       "  <th>total_sulfur_dioxide</th> <td>   -0.0159</td> <td>    0.003</td> <td>   -4.918</td> <td> 0.000</td> <td>   -0.022</td> <td>   -0.010</td>\n",
       "</tr>\n",
       "<tr>\n",
       "  <th>density</th>              <td>  -70.2556</td> <td>   92.618</td> <td>   -0.759</td> <td> 0.448</td> <td> -251.783</td> <td>  111.271</td>\n",
       "</tr>\n",
       "<tr>\n",
       "  <th>pH</th>                   <td>   -0.5522</td> <td>    0.824</td> <td>   -0.670</td> <td> 0.503</td> <td>   -2.168</td> <td>    1.064</td>\n",
       "</tr>\n",
       "<tr>\n",
       "  <th>sulphates</th>            <td>    2.8606</td> <td>    0.516</td> <td>    5.543</td> <td> 0.000</td> <td>    1.849</td> <td>    3.872</td>\n",
       "</tr>\n",
       "<tr>\n",
       "  <th>alcohol</th>              <td>    0.8899</td> <td>    0.119</td> <td>    7.486</td> <td> 0.000</td> <td>    0.657</td> <td>    1.123</td>\n",
       "</tr>\n",
       "</table>"
      ],
      "text/plain": [
       "<class 'statsmodels.iolib.summary.Summary'>\n",
       "\"\"\"\n",
       "                           Logit Regression Results                           \n",
       "==============================================================================\n",
       "Dep. Variable:               quality1   No. Observations:                 1279\n",
       "Model:                          Logit   Df Residuals:                     1267\n",
       "Method:                           MLE   Df Model:                           11\n",
       "Date:                Mon, 02 May 2022   Pseudo R-squ.:                  0.2666\n",
       "Time:                        16:27:09   Log-Likelihood:                -648.08\n",
       "converged:                       True   LL-Null:                       -883.71\n",
       "Covariance Type:            nonrobust   LLR p-value:                 4.295e-94\n",
       "========================================================================================\n",
       "                           coef    std err          z      P>|z|      [0.025      0.975]\n",
       "----------------------------------------------------------------------------------------\n",
       "Intercept               62.7093     90.661      0.692      0.489    -114.984     240.402\n",
       "fixed_acidity            0.1327      0.112      1.180      0.238      -0.088       0.353\n",
       "volatile_acidity        -3.6768      0.553     -6.654      0.000      -4.760      -2.594\n",
       "citric_acid             -1.3189      0.628     -2.100      0.036      -2.550      -0.088\n",
       "residual_sugar           0.0706      0.062      1.137      0.255      -0.051       0.192\n",
       "chlorides               -3.8979      1.730     -2.253      0.024      -7.289      -0.507\n",
       "free_sulfur_dioxide      0.0202      0.009      2.146      0.032       0.002       0.039\n",
       "total_sulfur_dioxide    -0.0159      0.003     -4.918      0.000      -0.022      -0.010\n",
       "density                -70.2556     92.618     -0.759      0.448    -251.783     111.271\n",
       "pH                      -0.5522      0.824     -0.670      0.503      -2.168       1.064\n",
       "sulphates                2.8606      0.516      5.543      0.000       1.849       3.872\n",
       "alcohol                  0.8899      0.119      7.486      0.000       0.657       1.123\n",
       "========================================================================================\n",
       "\"\"\""
      ]
     },
     "execution_count": 27,
     "metadata": {},
     "output_type": "execute_result"
    }
   ],
   "source": [
    "logisticmodel = smf.logit('quality1 ~ fixed_acidity + volatile_acidity + citric_acid + residual_sugar + chlorides + free_sulfur_dioxide + total_sulfur_dioxide + density + pH + sulphates + alcohol', \n",
    "                         data = traindf).fit()\n",
    "logisticmodel.summary()"
   ]
  },
  {
   "cell_type": "code",
   "execution_count": 28,
   "metadata": {},
   "outputs": [
    {
     "name": "stdout",
     "output_type": "stream",
     "text": [
      "Optimization terminated successfully.\n",
      "         Current function value: 0.506935\n",
      "         Iterations 6\n"
     ]
    },
    {
     "data": {
      "text/html": [
       "<table class=\"simpletable\">\n",
       "<caption>Logit Regression Results</caption>\n",
       "<tr>\n",
       "  <th>Dep. Variable:</th>       <td>quality1</td>     <th>  No. Observations:  </th>  <td>  1279</td>  \n",
       "</tr>\n",
       "<tr>\n",
       "  <th>Model:</th>                 <td>Logit</td>      <th>  Df Residuals:      </th>  <td>  1268</td>  \n",
       "</tr>\n",
       "<tr>\n",
       "  <th>Method:</th>                 <td>MLE</td>       <th>  Df Model:          </th>  <td>    10</td>  \n",
       "</tr>\n",
       "<tr>\n",
       "  <th>Date:</th>            <td>Mon, 02 May 2022</td> <th>  Pseudo R-squ.:     </th>  <td>0.2663</td>  \n",
       "</tr>\n",
       "<tr>\n",
       "  <th>Time:</th>                <td>16:27:09</td>     <th>  Log-Likelihood:    </th> <td> -648.37</td> \n",
       "</tr>\n",
       "<tr>\n",
       "  <th>converged:</th>             <td>True</td>       <th>  LL-Null:           </th> <td> -883.71</td> \n",
       "</tr>\n",
       "<tr>\n",
       "  <th>Covariance Type:</th>     <td>nonrobust</td>    <th>  LLR p-value:       </th> <td>8.082e-95</td>\n",
       "</tr>\n",
       "</table>\n",
       "<table class=\"simpletable\">\n",
       "<tr>\n",
       "            <td></td>              <th>coef</th>     <th>std err</th>      <th>z</th>      <th>P>|z|</th>  <th>[0.025</th>    <th>0.975]</th>  \n",
       "</tr>\n",
       "<tr>\n",
       "  <th>Intercept</th>            <td>   -6.0376</td> <td>    2.622</td> <td>   -2.303</td> <td> 0.021</td> <td>  -11.176</td> <td>   -0.899</td>\n",
       "</tr>\n",
       "<tr>\n",
       "  <th>fixed_acidity</th>        <td>    0.0659</td> <td>    0.070</td> <td>    0.945</td> <td> 0.345</td> <td>   -0.071</td> <td>    0.203</td>\n",
       "</tr>\n",
       "<tr>\n",
       "  <th>volatile_acidity</th>     <td>   -3.7377</td> <td>    0.549</td> <td>   -6.805</td> <td> 0.000</td> <td>   -4.814</td> <td>   -2.661</td>\n",
       "</tr>\n",
       "<tr>\n",
       "  <th>citric_acid</th>          <td>   -1.3246</td> <td>    0.630</td> <td>   -2.103</td> <td> 0.035</td> <td>   -2.559</td> <td>   -0.090</td>\n",
       "</tr>\n",
       "<tr>\n",
       "  <th>residual_sugar</th>       <td>    0.0430</td> <td>    0.050</td> <td>    0.855</td> <td> 0.393</td> <td>   -0.056</td> <td>    0.142</td>\n",
       "</tr>\n",
       "<tr>\n",
       "  <th>chlorides</th>            <td>   -4.0138</td> <td>    1.727</td> <td>   -2.325</td> <td> 0.020</td> <td>   -7.398</td> <td>   -0.630</td>\n",
       "</tr>\n",
       "<tr>\n",
       "  <th>free_sulfur_dioxide</th>  <td>    0.0208</td> <td>    0.009</td> <td>    2.222</td> <td> 0.026</td> <td>    0.002</td> <td>    0.039</td>\n",
       "</tr>\n",
       "<tr>\n",
       "  <th>total_sulfur_dioxide</th> <td>   -0.0161</td> <td>    0.003</td> <td>   -4.978</td> <td> 0.000</td> <td>   -0.022</td> <td>   -0.010</td>\n",
       "</tr>\n",
       "<tr>\n",
       "  <th>pH</th>                   <td>   -0.9172</td> <td>    0.669</td> <td>   -1.372</td> <td> 0.170</td> <td>   -2.227</td> <td>    0.393</td>\n",
       "</tr>\n",
       "<tr>\n",
       "  <th>sulphates</th>            <td>    2.7566</td> <td>    0.496</td> <td>    5.557</td> <td> 0.000</td> <td>    1.784</td> <td>    3.729</td>\n",
       "</tr>\n",
       "<tr>\n",
       "  <th>alcohol</th>              <td>    0.9533</td> <td>    0.085</td> <td>   11.223</td> <td> 0.000</td> <td>    0.787</td> <td>    1.120</td>\n",
       "</tr>\n",
       "</table>"
      ],
      "text/plain": [
       "<class 'statsmodels.iolib.summary.Summary'>\n",
       "\"\"\"\n",
       "                           Logit Regression Results                           \n",
       "==============================================================================\n",
       "Dep. Variable:               quality1   No. Observations:                 1279\n",
       "Model:                          Logit   Df Residuals:                     1268\n",
       "Method:                           MLE   Df Model:                           10\n",
       "Date:                Mon, 02 May 2022   Pseudo R-squ.:                  0.2663\n",
       "Time:                        16:27:09   Log-Likelihood:                -648.37\n",
       "converged:                       True   LL-Null:                       -883.71\n",
       "Covariance Type:            nonrobust   LLR p-value:                 8.082e-95\n",
       "========================================================================================\n",
       "                           coef    std err          z      P>|z|      [0.025      0.975]\n",
       "----------------------------------------------------------------------------------------\n",
       "Intercept               -6.0376      2.622     -2.303      0.021     -11.176      -0.899\n",
       "fixed_acidity            0.0659      0.070      0.945      0.345      -0.071       0.203\n",
       "volatile_acidity        -3.7377      0.549     -6.805      0.000      -4.814      -2.661\n",
       "citric_acid             -1.3246      0.630     -2.103      0.035      -2.559      -0.090\n",
       "residual_sugar           0.0430      0.050      0.855      0.393      -0.056       0.142\n",
       "chlorides               -4.0138      1.727     -2.325      0.020      -7.398      -0.630\n",
       "free_sulfur_dioxide      0.0208      0.009      2.222      0.026       0.002       0.039\n",
       "total_sulfur_dioxide    -0.0161      0.003     -4.978      0.000      -0.022      -0.010\n",
       "pH                      -0.9172      0.669     -1.372      0.170      -2.227       0.393\n",
       "sulphates                2.7566      0.496      5.557      0.000       1.784       3.729\n",
       "alcohol                  0.9533      0.085     11.223      0.000       0.787       1.120\n",
       "========================================================================================\n",
       "\"\"\""
      ]
     },
     "execution_count": 28,
     "metadata": {},
     "output_type": "execute_result"
    }
   ],
   "source": [
    "# drop density \n",
    "logisticmodel2 = smf.logit('quality1 ~ fixed_acidity + volatile_acidity + citric_acid + residual_sugar + chlorides + free_sulfur_dioxide + total_sulfur_dioxide + pH + sulphates + alcohol', \n",
    "                         data = traindf).fit()\n",
    "logisticmodel2.summary()"
   ]
  },
  {
   "cell_type": "code",
   "execution_count": 29,
   "metadata": {},
   "outputs": [
    {
     "name": "stdout",
     "output_type": "stream",
     "text": [
      "Optimization terminated successfully.\n",
      "         Current function value: 0.507219\n",
      "         Iterations 6\n"
     ]
    },
    {
     "data": {
      "text/html": [
       "<table class=\"simpletable\">\n",
       "<caption>Logit Regression Results</caption>\n",
       "<tr>\n",
       "  <th>Dep. Variable:</th>       <td>quality1</td>     <th>  No. Observations:  </th>  <td>  1279</td>  \n",
       "</tr>\n",
       "<tr>\n",
       "  <th>Model:</th>                 <td>Logit</td>      <th>  Df Residuals:      </th>  <td>  1269</td>  \n",
       "</tr>\n",
       "<tr>\n",
       "  <th>Method:</th>                 <td>MLE</td>       <th>  Df Model:          </th>  <td>     9</td>  \n",
       "</tr>\n",
       "<tr>\n",
       "  <th>Date:</th>            <td>Mon, 02 May 2022</td> <th>  Pseudo R-squ.:     </th>  <td>0.2659</td>  \n",
       "</tr>\n",
       "<tr>\n",
       "  <th>Time:</th>                <td>16:27:09</td>     <th>  Log-Likelihood:    </th> <td> -648.73</td> \n",
       "</tr>\n",
       "<tr>\n",
       "  <th>converged:</th>             <td>True</td>       <th>  LL-Null:           </th> <td> -883.71</td> \n",
       "</tr>\n",
       "<tr>\n",
       "  <th>Covariance Type:</th>     <td>nonrobust</td>    <th>  LLR p-value:       </th> <td>1.553e-95</td>\n",
       "</tr>\n",
       "</table>\n",
       "<table class=\"simpletable\">\n",
       "<tr>\n",
       "            <td></td>              <th>coef</th>     <th>std err</th>      <th>z</th>      <th>P>|z|</th>  <th>[0.025</th>    <th>0.975]</th>  \n",
       "</tr>\n",
       "<tr>\n",
       "  <th>Intercept</th>            <td>   -6.0827</td> <td>    2.621</td> <td>   -2.320</td> <td> 0.020</td> <td>  -11.220</td> <td>   -0.945</td>\n",
       "</tr>\n",
       "<tr>\n",
       "  <th>fixed_acidity</th>        <td>    0.0692</td> <td>    0.070</td> <td>    0.992</td> <td> 0.321</td> <td>   -0.067</td> <td>    0.206</td>\n",
       "</tr>\n",
       "<tr>\n",
       "  <th>volatile_acidity</th>     <td>   -3.7016</td> <td>    0.546</td> <td>   -6.780</td> <td> 0.000</td> <td>   -4.772</td> <td>   -2.632</td>\n",
       "</tr>\n",
       "<tr>\n",
       "  <th>citric_acid</th>          <td>   -1.2764</td> <td>    0.626</td> <td>   -2.037</td> <td> 0.042</td> <td>   -2.504</td> <td>   -0.048</td>\n",
       "</tr>\n",
       "<tr>\n",
       "  <th>chlorides</th>            <td>   -3.9347</td> <td>    1.720</td> <td>   -2.288</td> <td> 0.022</td> <td>   -7.306</td> <td>   -0.564</td>\n",
       "</tr>\n",
       "<tr>\n",
       "  <th>free_sulfur_dioxide</th>  <td>    0.0216</td> <td>    0.009</td> <td>    2.306</td> <td> 0.021</td> <td>    0.003</td> <td>    0.040</td>\n",
       "</tr>\n",
       "<tr>\n",
       "  <th>total_sulfur_dioxide</th> <td>   -0.0158</td> <td>    0.003</td> <td>   -4.903</td> <td> 0.000</td> <td>   -0.022</td> <td>   -0.009</td>\n",
       "</tr>\n",
       "<tr>\n",
       "  <th>pH</th>                   <td>   -0.9116</td> <td>    0.669</td> <td>   -1.363</td> <td> 0.173</td> <td>   -2.222</td> <td>    0.399</td>\n",
       "</tr>\n",
       "<tr>\n",
       "  <th>sulphates</th>            <td>    2.7242</td> <td>    0.495</td> <td>    5.505</td> <td> 0.000</td> <td>    1.754</td> <td>    3.694</td>\n",
       "</tr>\n",
       "<tr>\n",
       "  <th>alcohol</th>              <td>    0.9595</td> <td>    0.085</td> <td>   11.322</td> <td> 0.000</td> <td>    0.793</td> <td>    1.126</td>\n",
       "</tr>\n",
       "</table>"
      ],
      "text/plain": [
       "<class 'statsmodels.iolib.summary.Summary'>\n",
       "\"\"\"\n",
       "                           Logit Regression Results                           \n",
       "==============================================================================\n",
       "Dep. Variable:               quality1   No. Observations:                 1279\n",
       "Model:                          Logit   Df Residuals:                     1269\n",
       "Method:                           MLE   Df Model:                            9\n",
       "Date:                Mon, 02 May 2022   Pseudo R-squ.:                  0.2659\n",
       "Time:                        16:27:09   Log-Likelihood:                -648.73\n",
       "converged:                       True   LL-Null:                       -883.71\n",
       "Covariance Type:            nonrobust   LLR p-value:                 1.553e-95\n",
       "========================================================================================\n",
       "                           coef    std err          z      P>|z|      [0.025      0.975]\n",
       "----------------------------------------------------------------------------------------\n",
       "Intercept               -6.0827      2.621     -2.320      0.020     -11.220      -0.945\n",
       "fixed_acidity            0.0692      0.070      0.992      0.321      -0.067       0.206\n",
       "volatile_acidity        -3.7016      0.546     -6.780      0.000      -4.772      -2.632\n",
       "citric_acid             -1.2764      0.626     -2.037      0.042      -2.504      -0.048\n",
       "chlorides               -3.9347      1.720     -2.288      0.022      -7.306      -0.564\n",
       "free_sulfur_dioxide      0.0216      0.009      2.306      0.021       0.003       0.040\n",
       "total_sulfur_dioxide    -0.0158      0.003     -4.903      0.000      -0.022      -0.009\n",
       "pH                      -0.9116      0.669     -1.363      0.173      -2.222       0.399\n",
       "sulphates                2.7242      0.495      5.505      0.000       1.754       3.694\n",
       "alcohol                  0.9595      0.085     11.322      0.000       0.793       1.126\n",
       "========================================================================================\n",
       "\"\"\""
      ]
     },
     "execution_count": 29,
     "metadata": {},
     "output_type": "execute_result"
    }
   ],
   "source": [
    "# drop residual_sugar\n",
    "logisticmodel3 = smf.logit('quality1 ~ fixed_acidity + volatile_acidity + citric_acid + chlorides + free_sulfur_dioxide + total_sulfur_dioxide + pH + sulphates + alcohol', \n",
    "                         data = traindf).fit()\n",
    "logisticmodel3.summary()"
   ]
  },
  {
   "cell_type": "code",
   "execution_count": 30,
   "metadata": {},
   "outputs": [
    {
     "name": "stdout",
     "output_type": "stream",
     "text": [
      "Optimization terminated successfully.\n",
      "         Current function value: 0.507946\n",
      "         Iterations 6\n"
     ]
    },
    {
     "data": {
      "text/html": [
       "<table class=\"simpletable\">\n",
       "<caption>Logit Regression Results</caption>\n",
       "<tr>\n",
       "  <th>Dep. Variable:</th>       <td>quality1</td>     <th>  No. Observations:  </th>  <td>  1279</td>  \n",
       "</tr>\n",
       "<tr>\n",
       "  <th>Model:</th>                 <td>Logit</td>      <th>  Df Residuals:      </th>  <td>  1270</td>  \n",
       "</tr>\n",
       "<tr>\n",
       "  <th>Method:</th>                 <td>MLE</td>       <th>  Df Model:          </th>  <td>     8</td>  \n",
       "</tr>\n",
       "<tr>\n",
       "  <th>Date:</th>            <td>Mon, 02 May 2022</td> <th>  Pseudo R-squ.:     </th>  <td>0.2648</td>  \n",
       "</tr>\n",
       "<tr>\n",
       "  <th>Time:</th>                <td>16:27:09</td>     <th>  Log-Likelihood:    </th> <td> -649.66</td> \n",
       "</tr>\n",
       "<tr>\n",
       "  <th>converged:</th>             <td>True</td>       <th>  LL-Null:           </th> <td> -883.71</td> \n",
       "</tr>\n",
       "<tr>\n",
       "  <th>Covariance Type:</th>     <td>nonrobust</td>    <th>  LLR p-value:       </th> <td>4.905e-96</td>\n",
       "</tr>\n",
       "</table>\n",
       "<table class=\"simpletable\">\n",
       "<tr>\n",
       "            <td></td>              <th>coef</th>     <th>std err</th>      <th>z</th>      <th>P>|z|</th>  <th>[0.025</th>    <th>0.975]</th>  \n",
       "</tr>\n",
       "<tr>\n",
       "  <th>Intercept</th>            <td>   -9.3635</td> <td>    1.069</td> <td>   -8.755</td> <td> 0.000</td> <td>  -11.460</td> <td>   -7.267</td>\n",
       "</tr>\n",
       "<tr>\n",
       "  <th>fixed_acidity</th>        <td>    0.1242</td> <td>    0.057</td> <td>    2.177</td> <td> 0.029</td> <td>    0.012</td> <td>    0.236</td>\n",
       "</tr>\n",
       "<tr>\n",
       "  <th>volatile_acidity</th>     <td>   -3.8175</td> <td>    0.541</td> <td>   -7.060</td> <td> 0.000</td> <td>   -4.877</td> <td>   -2.758</td>\n",
       "</tr>\n",
       "<tr>\n",
       "  <th>citric_acid</th>          <td>   -1.3122</td> <td>    0.625</td> <td>   -2.099</td> <td> 0.036</td> <td>   -2.538</td> <td>   -0.087</td>\n",
       "</tr>\n",
       "<tr>\n",
       "  <th>chlorides</th>            <td>   -3.3360</td> <td>    1.658</td> <td>   -2.011</td> <td> 0.044</td> <td>   -6.587</td> <td>   -0.085</td>\n",
       "</tr>\n",
       "<tr>\n",
       "  <th>free_sulfur_dioxide</th>  <td>    0.0200</td> <td>    0.009</td> <td>    2.139</td> <td> 0.032</td> <td>    0.002</td> <td>    0.038</td>\n",
       "</tr>\n",
       "<tr>\n",
       "  <th>total_sulfur_dioxide</th> <td>   -0.0148</td> <td>    0.003</td> <td>   -4.711</td> <td> 0.000</td> <td>   -0.021</td> <td>   -0.009</td>\n",
       "</tr>\n",
       "<tr>\n",
       "  <th>sulphates</th>            <td>    2.6964</td> <td>    0.487</td> <td>    5.538</td> <td> 0.000</td> <td>    1.742</td> <td>    3.651</td>\n",
       "</tr>\n",
       "<tr>\n",
       "  <th>alcohol</th>              <td>    0.9424</td> <td>    0.084</td> <td>   11.274</td> <td> 0.000</td> <td>    0.779</td> <td>    1.106</td>\n",
       "</tr>\n",
       "</table>"
      ],
      "text/plain": [
       "<class 'statsmodels.iolib.summary.Summary'>\n",
       "\"\"\"\n",
       "                           Logit Regression Results                           \n",
       "==============================================================================\n",
       "Dep. Variable:               quality1   No. Observations:                 1279\n",
       "Model:                          Logit   Df Residuals:                     1270\n",
       "Method:                           MLE   Df Model:                            8\n",
       "Date:                Mon, 02 May 2022   Pseudo R-squ.:                  0.2648\n",
       "Time:                        16:27:09   Log-Likelihood:                -649.66\n",
       "converged:                       True   LL-Null:                       -883.71\n",
       "Covariance Type:            nonrobust   LLR p-value:                 4.905e-96\n",
       "========================================================================================\n",
       "                           coef    std err          z      P>|z|      [0.025      0.975]\n",
       "----------------------------------------------------------------------------------------\n",
       "Intercept               -9.3635      1.069     -8.755      0.000     -11.460      -7.267\n",
       "fixed_acidity            0.1242      0.057      2.177      0.029       0.012       0.236\n",
       "volatile_acidity        -3.8175      0.541     -7.060      0.000      -4.877      -2.758\n",
       "citric_acid             -1.3122      0.625     -2.099      0.036      -2.538      -0.087\n",
       "chlorides               -3.3360      1.658     -2.011      0.044      -6.587      -0.085\n",
       "free_sulfur_dioxide      0.0200      0.009      2.139      0.032       0.002       0.038\n",
       "total_sulfur_dioxide    -0.0148      0.003     -4.711      0.000      -0.021      -0.009\n",
       "sulphates                2.6964      0.487      5.538      0.000       1.742       3.651\n",
       "alcohol                  0.9424      0.084     11.274      0.000       0.779       1.106\n",
       "========================================================================================\n",
       "\"\"\""
      ]
     },
     "execution_count": 30,
     "metadata": {},
     "output_type": "execute_result"
    }
   ],
   "source": [
    "# drop pH\n",
    "logisticmodel4 = smf.logit('quality1 ~ fixed_acidity + volatile_acidity + citric_acid + chlorides + free_sulfur_dioxide + total_sulfur_dioxide + sulphates + alcohol', \n",
    "                         data = traindf).fit()\n",
    "logisticmodel4.summary()"
   ]
  },
  {
   "cell_type": "code",
   "execution_count": 31,
   "metadata": {},
   "outputs": [
    {
     "name": "stdout",
     "output_type": "stream",
     "text": [
      "Model 1 AIC: 1320.1632482647137\n",
      "Model 2 AIC: 1318.739176499732\n",
      "Model 3 AIC: 1317.4673966488745\n",
      "Model 4 AIC: 1317.3261966156622\n"
     ]
    }
   ],
   "source": [
    "print('Model 1 AIC:', logisticmodel.aic)\n",
    "print('Model 2 AIC:', logisticmodel2.aic)\n",
    "print('Model 3 AIC:', logisticmodel3.aic)\n",
    "print('Model 4 AIC:', logisticmodel4.aic)\n",
    "# AIC scores begin to diverge from BIC at model 4, we will use model 3 as our parsimonious model"
   ]
  },
  {
   "cell_type": "code",
   "execution_count": 32,
   "metadata": {},
   "outputs": [
    {
     "name": "stdout",
     "output_type": "stream",
     "text": [
      "Model 1 BIC: 1382.0092538836598\n",
      "Model 2 BIC: 1375.4313483170993\n",
      "Model 3 BIC: 1369.005734664663\n",
      "Model 4 BIC: 1363.7107008298717\n"
     ]
    }
   ],
   "source": [
    "print('Model 1 BIC:', logisticmodel.bic)\n",
    "print('Model 2 BIC:', logisticmodel2.bic)\n",
    "print('Model 3 BIC:', logisticmodel3.bic)\n",
    "print('Model 4 BIC:', logisticmodel4.bic)\n",
    "# AIC scores begin to diverge from BIC at model 4, we will use model 3 as our parsimonious model"
   ]
  },
  {
   "cell_type": "code",
   "execution_count": 33,
   "metadata": {},
   "outputs": [
    {
     "data": {
      "text/html": [
       "<table class=\"simpletable\">\n",
       "<caption>Logit Regression Results</caption>\n",
       "<tr>\n",
       "  <th>Dep. Variable:</th>       <td>quality1</td>     <th>  No. Observations:  </th>  <td>  1279</td>  \n",
       "</tr>\n",
       "<tr>\n",
       "  <th>Model:</th>                 <td>Logit</td>      <th>  Df Residuals:      </th>  <td>  1269</td>  \n",
       "</tr>\n",
       "<tr>\n",
       "  <th>Method:</th>                 <td>MLE</td>       <th>  Df Model:          </th>  <td>     9</td>  \n",
       "</tr>\n",
       "<tr>\n",
       "  <th>Date:</th>            <td>Mon, 02 May 2022</td> <th>  Pseudo R-squ.:     </th>  <td>0.2659</td>  \n",
       "</tr>\n",
       "<tr>\n",
       "  <th>Time:</th>                <td>16:27:09</td>     <th>  Log-Likelihood:    </th> <td> -648.73</td> \n",
       "</tr>\n",
       "<tr>\n",
       "  <th>converged:</th>             <td>True</td>       <th>  LL-Null:           </th> <td> -883.71</td> \n",
       "</tr>\n",
       "<tr>\n",
       "  <th>Covariance Type:</th>     <td>nonrobust</td>    <th>  LLR p-value:       </th> <td>1.553e-95</td>\n",
       "</tr>\n",
       "</table>\n",
       "<table class=\"simpletable\">\n",
       "<tr>\n",
       "            <td></td>              <th>coef</th>     <th>std err</th>      <th>z</th>      <th>P>|z|</th>  <th>[0.025</th>    <th>0.975]</th>  \n",
       "</tr>\n",
       "<tr>\n",
       "  <th>Intercept</th>            <td>   -6.0827</td> <td>    2.621</td> <td>   -2.320</td> <td> 0.020</td> <td>  -11.220</td> <td>   -0.945</td>\n",
       "</tr>\n",
       "<tr>\n",
       "  <th>fixed_acidity</th>        <td>    0.0692</td> <td>    0.070</td> <td>    0.992</td> <td> 0.321</td> <td>   -0.067</td> <td>    0.206</td>\n",
       "</tr>\n",
       "<tr>\n",
       "  <th>volatile_acidity</th>     <td>   -3.7016</td> <td>    0.546</td> <td>   -6.780</td> <td> 0.000</td> <td>   -4.772</td> <td>   -2.632</td>\n",
       "</tr>\n",
       "<tr>\n",
       "  <th>citric_acid</th>          <td>   -1.2764</td> <td>    0.626</td> <td>   -2.037</td> <td> 0.042</td> <td>   -2.504</td> <td>   -0.048</td>\n",
       "</tr>\n",
       "<tr>\n",
       "  <th>chlorides</th>            <td>   -3.9347</td> <td>    1.720</td> <td>   -2.288</td> <td> 0.022</td> <td>   -7.306</td> <td>   -0.564</td>\n",
       "</tr>\n",
       "<tr>\n",
       "  <th>free_sulfur_dioxide</th>  <td>    0.0216</td> <td>    0.009</td> <td>    2.306</td> <td> 0.021</td> <td>    0.003</td> <td>    0.040</td>\n",
       "</tr>\n",
       "<tr>\n",
       "  <th>total_sulfur_dioxide</th> <td>   -0.0158</td> <td>    0.003</td> <td>   -4.903</td> <td> 0.000</td> <td>   -0.022</td> <td>   -0.009</td>\n",
       "</tr>\n",
       "<tr>\n",
       "  <th>pH</th>                   <td>   -0.9116</td> <td>    0.669</td> <td>   -1.363</td> <td> 0.173</td> <td>   -2.222</td> <td>    0.399</td>\n",
       "</tr>\n",
       "<tr>\n",
       "  <th>sulphates</th>            <td>    2.7242</td> <td>    0.495</td> <td>    5.505</td> <td> 0.000</td> <td>    1.754</td> <td>    3.694</td>\n",
       "</tr>\n",
       "<tr>\n",
       "  <th>alcohol</th>              <td>    0.9595</td> <td>    0.085</td> <td>   11.322</td> <td> 0.000</td> <td>    0.793</td> <td>    1.126</td>\n",
       "</tr>\n",
       "</table>"
      ],
      "text/plain": [
       "<class 'statsmodels.iolib.summary.Summary'>\n",
       "\"\"\"\n",
       "                           Logit Regression Results                           \n",
       "==============================================================================\n",
       "Dep. Variable:               quality1   No. Observations:                 1279\n",
       "Model:                          Logit   Df Residuals:                     1269\n",
       "Method:                           MLE   Df Model:                            9\n",
       "Date:                Mon, 02 May 2022   Pseudo R-squ.:                  0.2659\n",
       "Time:                        16:27:09   Log-Likelihood:                -648.73\n",
       "converged:                       True   LL-Null:                       -883.71\n",
       "Covariance Type:            nonrobust   LLR p-value:                 1.553e-95\n",
       "========================================================================================\n",
       "                           coef    std err          z      P>|z|      [0.025      0.975]\n",
       "----------------------------------------------------------------------------------------\n",
       "Intercept               -6.0827      2.621     -2.320      0.020     -11.220      -0.945\n",
       "fixed_acidity            0.0692      0.070      0.992      0.321      -0.067       0.206\n",
       "volatile_acidity        -3.7016      0.546     -6.780      0.000      -4.772      -2.632\n",
       "citric_acid             -1.2764      0.626     -2.037      0.042      -2.504      -0.048\n",
       "chlorides               -3.9347      1.720     -2.288      0.022      -7.306      -0.564\n",
       "free_sulfur_dioxide      0.0216      0.009      2.306      0.021       0.003       0.040\n",
       "total_sulfur_dioxide    -0.0158      0.003     -4.903      0.000      -0.022      -0.009\n",
       "pH                      -0.9116      0.669     -1.363      0.173      -2.222       0.399\n",
       "sulphates                2.7242      0.495      5.505      0.000       1.754       3.694\n",
       "alcohol                  0.9595      0.085     11.322      0.000       0.793       1.126\n",
       "========================================================================================\n",
       "\"\"\""
      ]
     },
     "execution_count": 33,
     "metadata": {},
     "output_type": "execute_result"
    }
   ],
   "source": [
    "logisticmodel3.summary()"
   ]
  },
  {
   "cell_type": "markdown",
   "metadata": {},
   "source": [
    "$log(\\frac{\\hat{p}}{1 - \\hat{p}}) = -6.7176 + 0.1143_{fixed acidity} - 3.0247_{volatile acidity} - 1.2405_{citric acid} - 4.6473_{chlorides} + 0.0211_{free sulfur dioxide} - 0.0139_{total sulfur dioxide} - 0.9285_{pH} + 2.8869_{sulphates} + 0.9405_{alcohol}$"
   ]
  },
  {
   "cell_type": "markdown",
   "metadata": {},
   "source": [
    "We have sufficient evidence that all  coefficients are statistically significant (i.e not equal to zero), except for ``fixed_acidity`` and ``pH``. These appear as statistically insignifcant due to their higher z scores and p-values above .05. For this reason, there is reason to believe that they may be equal to zero in the population model. "
   ]
  },
  {
   "cell_type": "code",
   "execution_count": 34,
   "metadata": {},
   "outputs": [],
   "source": [
    "testdf = xtest.join(ytest)"
   ]
  },
  {
   "cell_type": "code",
   "execution_count": 35,
   "metadata": {},
   "outputs": [
    {
     "name": "stdout",
     "output_type": "stream",
     "text": [
      "Optimization terminated successfully.\n",
      "         Current function value: 0.550700\n",
      "         Iterations 6\n"
     ]
    },
    {
     "data": {
      "text/html": [
       "<table class=\"simpletable\">\n",
       "<caption>Logit Regression Results</caption>\n",
       "<tr>\n",
       "  <th>Dep. Variable:</th>       <td>quality1</td>     <th>  No. Observations:  </th>  <td>   320</td>  \n",
       "</tr>\n",
       "<tr>\n",
       "  <th>Model:</th>                 <td>Logit</td>      <th>  Df Residuals:      </th>  <td>   310</td>  \n",
       "</tr>\n",
       "<tr>\n",
       "  <th>Method:</th>                 <td>MLE</td>       <th>  Df Model:          </th>  <td>     9</td>  \n",
       "</tr>\n",
       "<tr>\n",
       "  <th>Date:</th>            <td>Mon, 02 May 2022</td> <th>  Pseudo R-squ.:     </th>  <td>0.2017</td>  \n",
       "</tr>\n",
       "<tr>\n",
       "  <th>Time:</th>                <td>16:27:09</td>     <th>  Log-Likelihood:    </th> <td> -176.22</td> \n",
       "</tr>\n",
       "<tr>\n",
       "  <th>converged:</th>             <td>True</td>       <th>  LL-Null:           </th> <td> -220.75</td> \n",
       "</tr>\n",
       "<tr>\n",
       "  <th>Covariance Type:</th>     <td>nonrobust</td>    <th>  LLR p-value:       </th> <td>2.523e-15</td>\n",
       "</tr>\n",
       "</table>\n",
       "<table class=\"simpletable\">\n",
       "<tr>\n",
       "            <td></td>              <th>coef</th>     <th>std err</th>      <th>z</th>      <th>P>|z|</th>  <th>[0.025</th>    <th>0.975]</th>  \n",
       "</tr>\n",
       "<tr>\n",
       "  <th>Intercept</th>            <td>  -10.3599</td> <td>    5.116</td> <td>   -2.025</td> <td> 0.043</td> <td>  -20.388</td> <td>   -0.332</td>\n",
       "</tr>\n",
       "<tr>\n",
       "  <th>fixed_acidity</th>        <td>    0.1676</td> <td>    0.135</td> <td>    1.240</td> <td> 0.215</td> <td>   -0.097</td> <td>    0.433</td>\n",
       "</tr>\n",
       "<tr>\n",
       "  <th>volatile_acidity</th>     <td>   -1.6453</td> <td>    1.098</td> <td>   -1.498</td> <td> 0.134</td> <td>   -3.798</td> <td>    0.507</td>\n",
       "</tr>\n",
       "<tr>\n",
       "  <th>citric_acid</th>          <td>   -1.0066</td> <td>    1.312</td> <td>   -0.767</td> <td> 0.443</td> <td>   -3.577</td> <td>    1.564</td>\n",
       "</tr>\n",
       "<tr>\n",
       "  <th>chlorides</th>            <td>   -4.4796</td> <td>    3.871</td> <td>   -1.157</td> <td> 0.247</td> <td>  -12.066</td> <td>    3.107</td>\n",
       "</tr>\n",
       "<tr>\n",
       "  <th>free_sulfur_dioxide</th>  <td>    0.0284</td> <td>    0.017</td> <td>    1.628</td> <td> 0.104</td> <td>   -0.006</td> <td>    0.063</td>\n",
       "</tr>\n",
       "<tr>\n",
       "  <th>total_sulfur_dioxide</th> <td>   -0.0181</td> <td>    0.006</td> <td>   -2.940</td> <td> 0.003</td> <td>   -0.030</td> <td>   -0.006</td>\n",
       "</tr>\n",
       "<tr>\n",
       "  <th>pH</th>                   <td>    0.3547</td> <td>    1.320</td> <td>    0.269</td> <td> 0.788</td> <td>   -2.233</td> <td>    2.942</td>\n",
       "</tr>\n",
       "<tr>\n",
       "  <th>sulphates</th>            <td>    2.6923</td> <td>    0.984</td> <td>    2.736</td> <td> 0.006</td> <td>    0.764</td> <td>    4.621</td>\n",
       "</tr>\n",
       "<tr>\n",
       "  <th>alcohol</th>              <td>    0.7852</td> <td>    0.156</td> <td>    5.027</td> <td> 0.000</td> <td>    0.479</td> <td>    1.091</td>\n",
       "</tr>\n",
       "</table>"
      ],
      "text/plain": [
       "<class 'statsmodels.iolib.summary.Summary'>\n",
       "\"\"\"\n",
       "                           Logit Regression Results                           \n",
       "==============================================================================\n",
       "Dep. Variable:               quality1   No. Observations:                  320\n",
       "Model:                          Logit   Df Residuals:                      310\n",
       "Method:                           MLE   Df Model:                            9\n",
       "Date:                Mon, 02 May 2022   Pseudo R-squ.:                  0.2017\n",
       "Time:                        16:27:09   Log-Likelihood:                -176.22\n",
       "converged:                       True   LL-Null:                       -220.75\n",
       "Covariance Type:            nonrobust   LLR p-value:                 2.523e-15\n",
       "========================================================================================\n",
       "                           coef    std err          z      P>|z|      [0.025      0.975]\n",
       "----------------------------------------------------------------------------------------\n",
       "Intercept              -10.3599      5.116     -2.025      0.043     -20.388      -0.332\n",
       "fixed_acidity            0.1676      0.135      1.240      0.215      -0.097       0.433\n",
       "volatile_acidity        -1.6453      1.098     -1.498      0.134      -3.798       0.507\n",
       "citric_acid             -1.0066      1.312     -0.767      0.443      -3.577       1.564\n",
       "chlorides               -4.4796      3.871     -1.157      0.247     -12.066       3.107\n",
       "free_sulfur_dioxide      0.0284      0.017      1.628      0.104      -0.006       0.063\n",
       "total_sulfur_dioxide    -0.0181      0.006     -2.940      0.003      -0.030      -0.006\n",
       "pH                       0.3547      1.320      0.269      0.788      -2.233       2.942\n",
       "sulphates                2.6923      0.984      2.736      0.006       0.764       4.621\n",
       "alcohol                  0.7852      0.156      5.027      0.000       0.479       1.091\n",
       "========================================================================================\n",
       "\"\"\""
      ]
     },
     "execution_count": 35,
     "metadata": {},
     "output_type": "execute_result"
    }
   ],
   "source": [
    "logisticmodeltest = smf.logit('quality1 ~ fixed_acidity + volatile_acidity + citric_acid + chlorides + free_sulfur_dioxide + total_sulfur_dioxide + pH + sulphates + alcohol', \n",
    "                         data = testdf).fit()\n",
    "logisticmodeltest.summary()"
   ]
  },
  {
   "cell_type": "code",
   "execution_count": 36,
   "metadata": {},
   "outputs": [],
   "source": [
    "def plot_roc(fpr, tpr, auc, lw = 2): \n",
    "   plt.plot(fpr, tpr, color = 'darkorange', lw = lw, \n",
    "            label = 'ROC curve (area = ' + str(round(auc, 3)) +')') \n",
    "   plt.plot([0, 1], [0, 1], color = 'navy', lw = lw, linestyle = '--') \n",
    "   plt.xlabel('False Positive Rate') \n",
    "   plt.ylabel('True Positive Rate') \n",
    "   plt.title('ROC Curve') \n",
    "   plt.legend(loc = \"lower right\") \n",
    "   plt.show()"
   ]
  },
  {
   "cell_type": "code",
   "execution_count": 37,
   "metadata": {},
   "outputs": [
    {
     "name": "stdout",
     "output_type": "stream",
     "text": [
      "0.7889583579096379\n"
     ]
    }
   ],
   "source": [
    "fprs, tprs, thresholds = roc_curve(y_true = testdf['quality1'],  \n",
    "                           y_score = logisticmodeltest.fittedvalues) \n",
    "auc = roc_auc_score(y_true = testdf['quality1'],  \n",
    "                   y_score = logisticmodeltest.fittedvalues) \n",
    "print(auc)"
   ]
  },
  {
   "cell_type": "code",
   "execution_count": 38,
   "metadata": {},
   "outputs": [
    {
     "data": {
      "image/png": "[encoded data removed]",
      "text/plain": [
       "<Figure size 432x288 with 1 Axes>"
      ]
     },
     "metadata": {
      "needs_background": "light"
     },
     "output_type": "display_data"
    }
   ],
   "source": [
    "plot_roc(fprs, tprs, auc)"
   ]
  },
  {
   "cell_type": "code",
   "execution_count": 39,
   "metadata": {},
   "outputs": [],
   "source": [
    "## Option 1 FPR (.5), TPR (.9) \n",
    "## Option 2 FPR (.1), TPR (.6)\n",
    "def tpr_fpr_thresh(y, pred_prob, thresh):\n",
    "    yhat = 1 * (pred_prob >= thresh)\n",
    "    tn, fp, fn, tp = confusion_matrix(y_true = y, y_pred = yhat).ravel()\n",
    "    tpr = tp / (fn + tp) \n",
    "    fpr = fp / (fp + tn)\n",
    "    return pd.DataFrame({'threshold':[thresh],\n",
    "                         'tpr':[tpr], \n",
    "                         'fpr':[fpr]})"
   ]
  },
  {
   "cell_type": "code",
   "execution_count": 40,
   "metadata": {},
   "outputs": [],
   "source": [
    "newdf = testdf[['quality1', 'fixed_acidity', 'volatile_acidity', 'citric_acid', 'pH', 'chlorides', 'free_sulfur_dioxide', 'total_sulfur_dioxide', 'sulphates', 'alcohol']]\n",
    "pred_probabilities = logisticmodeltest.predict(exog = dict(newdf))\n",
    "testdf['predicted_prob'] = pred_probabilities\n",
    "testdf.rename(columns = {'quality1': 'y'}, inplace = True)"
   ]
  },
  {
   "cell_type": "code",
   "execution_count": 41,
   "metadata": {},
   "outputs": [
    {
     "name": "stdout",
     "output_type": "stream",
     "text": [
      "   threshold  tpr  fpr\n",
      "0        0.0  1.0  1.0\n",
      "   threshold  tpr  fpr\n",
      "0       0.01  1.0  1.0\n",
      "   threshold  tpr  fpr\n",
      "0       0.02  1.0  1.0\n",
      "   threshold  tpr  fpr\n",
      "0       0.03  1.0  1.0\n",
      "   threshold  tpr  fpr\n",
      "0       0.04  1.0  1.0\n",
      "   threshold  tpr  fpr\n",
      "0       0.05  1.0  1.0\n",
      "   threshold  tpr       fpr\n",
      "0       0.06  1.0  0.993197\n",
      "   threshold  tpr       fpr\n",
      "0       0.07  1.0  0.972789\n",
      "   threshold  tpr       fpr\n",
      "0       0.08  1.0  0.965986\n",
      "   threshold  tpr       fpr\n",
      "0       0.09  1.0  0.952381\n",
      "   threshold  tpr       fpr\n",
      "0        0.1  1.0  0.945578\n",
      "   threshold  tpr       fpr\n",
      "0       0.11  1.0  0.945578\n",
      "   threshold      tpr       fpr\n",
      "0       0.12  0.99422  0.918367\n",
      "   threshold       tpr       fpr\n",
      "0       0.13  0.988439  0.884354\n",
      "   threshold       tpr       fpr\n",
      "0       0.14  0.988439  0.863946\n",
      "   threshold       tpr       fpr\n",
      "0       0.15  0.976879  0.863946\n",
      "   threshold       tpr      fpr\n",
      "0       0.16  0.976879  0.85034\n",
      "   threshold       tpr      fpr\n",
      "0       0.17  0.971098  0.85034\n",
      "   threshold       tpr       fpr\n",
      "0       0.18  0.965318  0.836735\n",
      "   threshold       tpr       fpr\n",
      "0       0.19  0.953757  0.823129\n",
      "   threshold       tpr       fpr\n",
      "0        0.2  0.947977  0.816327\n",
      "   threshold       tpr       fpr\n",
      "0       0.21  0.942197  0.816327\n",
      "   threshold       tpr       fpr\n",
      "0       0.22  0.942197  0.795918\n",
      "   threshold       tpr       fpr\n",
      "0       0.23  0.930636  0.789116\n",
      "   threshold       tpr       fpr\n",
      "0       0.24  0.924855  0.782313\n",
      "   threshold       tpr       fpr\n",
      "0       0.25  0.924855  0.768707\n",
      "   threshold       tpr       fpr\n",
      "0       0.26  0.919075  0.761905\n",
      "   threshold       tpr       fpr\n",
      "0       0.27  0.907514  0.748299\n",
      "   threshold       tpr       fpr\n",
      "0       0.28  0.907514  0.748299\n",
      "   threshold       tpr       fpr\n",
      "0       0.29  0.907514  0.714286\n",
      "   threshold       tpr      fpr\n",
      "0        0.3  0.895954  0.70068\n",
      "   threshold       tpr       fpr\n",
      "0       0.31  0.895954  0.673469\n",
      "   threshold       tpr       fpr\n",
      "0       0.32  0.884393  0.659864\n",
      "   threshold       tpr       fpr\n",
      "0       0.33  0.884393  0.639456\n",
      "   threshold       tpr       fpr\n",
      "0       0.34  0.884393  0.585034\n",
      "   threshold       tpr       fpr\n",
      "0       0.35  0.884393  0.557823\n",
      "   threshold       tpr      fpr\n",
      "0       0.36  0.878613  0.52381\n",
      "   threshold       tpr       fpr\n",
      "0       0.37  0.872832  0.517007\n",
      "   threshold       tpr       fpr\n",
      "0       0.38  0.867052  0.503401\n",
      "   threshold       tpr       fpr\n",
      "0       0.39  0.861272  0.496599\n",
      "   threshold       tpr       fpr\n",
      "0        0.4  0.861272  0.489796\n",
      "   threshold       tpr       fpr\n",
      "0       0.41  0.843931  0.455782\n",
      "   threshold       tpr       fpr\n",
      "0       0.42  0.820809  0.435374\n",
      "   threshold       tpr       fpr\n",
      "0       0.43  0.797688  0.428571\n",
      "   threshold       tpr       fpr\n",
      "0       0.44  0.791908  0.414966\n",
      "   threshold       tpr       fpr\n",
      "0       0.45  0.791908  0.401361\n",
      "   threshold       tpr      fpr\n",
      "0       0.46  0.791908  0.37415\n",
      "   threshold       tpr       fpr\n",
      "0       0.47  0.774566  0.346939\n",
      "   threshold       tpr       fpr\n",
      "0       0.48  0.757225  0.333333\n",
      "   threshold       tpr      fpr\n",
      "0       0.49  0.745665  0.29932\n",
      "   threshold       tpr       fpr\n",
      "0        0.5  0.728324  0.292517\n",
      "   threshold       tpr       fpr\n",
      "0       0.51  0.722543  0.292517\n",
      "   threshold       tpr       fpr\n",
      "0       0.52  0.716763  0.272109\n",
      "   threshold       tpr       fpr\n",
      "0       0.53  0.716763  0.265306\n",
      "   threshold       tpr       fpr\n",
      "0       0.54  0.699422  0.251701\n",
      "   threshold       tpr       fpr\n",
      "0       0.55  0.682081  0.251701\n",
      "   threshold      tpr       fpr\n",
      "0       0.56  0.66474  0.238095\n",
      "   threshold       tpr       fpr\n",
      "0       0.57  0.653179  0.217687\n",
      "   threshold       tpr       fpr\n",
      "0       0.58  0.641618  0.210884\n",
      "   threshold       tpr       fpr\n",
      "0       0.59  0.624277  0.197279\n",
      "   threshold       tpr       fpr\n",
      "0        0.6  0.612717  0.197279\n",
      "   threshold       tpr       fpr\n",
      "0       0.61  0.606936  0.190476\n",
      "   threshold       tpr       fpr\n",
      "0       0.62  0.595376  0.176871\n",
      "   threshold       tpr       fpr\n",
      "0       0.63  0.578035  0.170068\n",
      "   threshold       tpr       fpr\n",
      "0       0.64  0.578035  0.163265\n",
      "   threshold       tpr       fpr\n",
      "0       0.65  0.572254  0.156463\n",
      "   threshold       tpr      fpr\n",
      "0       0.66  0.554913  0.14966\n",
      "   threshold       tpr       fpr\n",
      "0       0.67  0.537572  0.129252\n",
      "   threshold       tpr       fpr\n",
      "0       0.68  0.520231  0.122449\n",
      "   threshold      tpr       fpr\n",
      "0       0.69  0.50289  0.108844\n",
      "   threshold      tpr       fpr\n",
      "0        0.7  0.50289  0.088435\n",
      "   threshold      tpr       fpr\n",
      "0       0.71  0.49711  0.088435\n",
      "   threshold       tpr      fpr\n",
      "0       0.72  0.491329  0.07483\n",
      "   threshold       tpr      fpr\n",
      "0       0.73  0.473988  0.07483\n",
      "   threshold       tpr       fpr\n",
      "0       0.74  0.462428  0.068027\n",
      "   threshold       tpr       fpr\n",
      "0       0.75  0.456647  0.061224\n",
      "   threshold       tpr       fpr\n",
      "0       0.76  0.445087  0.061224\n",
      "   threshold       tpr       fpr\n",
      "0       0.77  0.433526  0.040816\n",
      "   threshold       tpr       fpr\n",
      "0       0.78  0.416185  0.040816\n",
      "   threshold       tpr       fpr\n",
      "0       0.79  0.393064  0.040816\n",
      "   threshold       tpr       fpr\n",
      "0        0.8  0.364162  0.027211\n",
      "   threshold       tpr       fpr\n",
      "0       0.81  0.346821  0.027211\n",
      "   threshold      tpr       fpr\n",
      "0       0.82  0.32948  0.027211\n",
      "   threshold       tpr       fpr\n",
      "0       0.83  0.312139  0.027211\n",
      "   threshold       tpr       fpr\n",
      "0       0.84  0.283237  0.020408\n",
      "   threshold       tpr       fpr\n",
      "0       0.85  0.242775  0.020408\n",
      "   threshold       tpr       fpr\n",
      "0       0.86  0.213873  0.006803\n",
      "   threshold       tpr  fpr\n",
      "0       0.87  0.196532  0.0\n",
      "   threshold       tpr  fpr\n",
      "0       0.88  0.179191  0.0\n",
      "   threshold      tpr  fpr\n",
      "0       0.89  0.16185  0.0\n",
      "   threshold       tpr  fpr\n",
      "0        0.9  0.127168  0.0\n",
      "   threshold       tpr  fpr\n",
      "0       0.91  0.109827  0.0\n",
      "   threshold       tpr  fpr\n",
      "0       0.92  0.092486  0.0\n",
      "   threshold       tpr  fpr\n",
      "0       0.93  0.052023  0.0\n",
      "   threshold       tpr  fpr\n",
      "0       0.94  0.023121  0.0\n",
      "   threshold       tpr  fpr\n",
      "0       0.95  0.023121  0.0\n",
      "   threshold       tpr  fpr\n",
      "0       0.96  0.011561  0.0\n",
      "   threshold      tpr  fpr\n",
      "0       0.97  0.00578  0.0\n",
      "   threshold  tpr  fpr\n",
      "0       0.98  0.0  0.0\n",
      "   threshold  tpr  fpr\n",
      "0       0.99  0.0  0.0\n"
     ]
    }
   ],
   "source": [
    "for thresh in np.arange(0,1,.01):\n",
    "    print(tpr_fpr_thresh(testdf['y'], testdf['predicted_prob'], thresh))"
   ]
  },
  {
   "cell_type": "code",
   "execution_count": 42,
   "metadata": {},
   "outputs": [],
   "source": [
    "## Option 1\n",
    "testdf['yhat'] = (testdf['predicted_prob'] > .35) * 1"
   ]
  },
  {
   "cell_type": "code",
   "execution_count": 43,
   "metadata": {},
   "outputs": [
    {
     "data": {
      "text/plain": [
       "(65, 82, 20, 153)"
      ]
     },
     "execution_count": 43,
     "metadata": {},
     "output_type": "execute_result"
    }
   ],
   "source": [
    "tn, fp, fn, tp = confusion_matrix(y_true = testdf['y'], y_pred = testdf['yhat']).ravel()\n",
    "(tn, fp, fn, tp)"
   ]
  },
  {
   "cell_type": "code",
   "execution_count": 44,
   "metadata": {},
   "outputs": [
    {
     "data": {
      "text/plain": [
       "array([[ 65,  82],\n",
       "       [ 20, 153]])"
      ]
     },
     "execution_count": 44,
     "metadata": {},
     "output_type": "execute_result"
    }
   ],
   "source": [
    "confusion_matrix(y_true = testdf['y'], y_pred = testdf['yhat'])"
   ]
  },
  {
   "cell_type": "code",
   "execution_count": 45,
   "metadata": {},
   "outputs": [
    {
     "name": "stdout",
     "output_type": "stream",
     "text": [
      "false positive rate: 0.5\n"
     ]
    }
   ],
   "source": [
    "false_positive = 68 / (68 * 2)\n",
    "print('false positive rate:', false_positive)"
   ]
  },
  {
   "cell_type": "code",
   "execution_count": 46,
   "metadata": {},
   "outputs": [
    {
     "name": "stdout",
     "output_type": "stream",
     "text": [
      "true positive rate: 0.907608695652174\n"
     ]
    }
   ],
   "source": [
    "true_positive = 167 / (167 + 17)\n",
    "print('true positive rate:', true_positive)"
   ]
  },
  {
   "cell_type": "code",
   "execution_count": 47,
   "metadata": {},
   "outputs": [],
   "source": [
    "# Option 2\n",
    "testdf['yhat'] = (testdf['predicted_prob'] > .72) * 1"
   ]
  },
  {
   "cell_type": "code",
   "execution_count": 48,
   "metadata": {},
   "outputs": [
    {
     "data": {
      "text/plain": [
       "(136, 11, 88, 85)"
      ]
     },
     "execution_count": 48,
     "metadata": {},
     "output_type": "execute_result"
    }
   ],
   "source": [
    "tn, fp, fn, tp = confusion_matrix(y_true = testdf['y'], y_pred = testdf['yhat']).ravel()\n",
    "(tn, fp, fn, tp)"
   ]
  },
  {
   "cell_type": "code",
   "execution_count": 49,
   "metadata": {},
   "outputs": [
    {
     "data": {
      "text/plain": [
       "array([[136,  11],\n",
       "       [ 88,  85]])"
      ]
     },
     "execution_count": 49,
     "metadata": {},
     "output_type": "execute_result"
    }
   ],
   "source": [
    "confusion_matrix(y_true = testdf['y'], y_pred = testdf['yhat'])"
   ]
  },
  {
   "cell_type": "code",
   "execution_count": 50,
   "metadata": {},
   "outputs": [
    {
     "name": "stdout",
     "output_type": "stream",
     "text": [
      "false positive rate: 0.11764705882352941\n"
     ]
    }
   ],
   "source": [
    "false_positive = 16 / (16 + 120)\n",
    "print('false positive rate:', false_positive)"
   ]
  },
  {
   "cell_type": "code",
   "execution_count": 51,
   "metadata": {},
   "outputs": [
    {
     "name": "stdout",
     "output_type": "stream",
     "text": [
      "true positive rate: 0.592391304347826\n"
     ]
    }
   ],
   "source": [
    "true_positive = 109 / (109 + 75)\n",
    "print('true positive rate:', true_positive)"
   ]
  },
  {
   "cell_type": "markdown",
   "metadata": {},
   "source": [
    "- Option 1 threshold : .35\n",
    "- Option 2 threshold: .72\n",
    "\n",
    "I selected the threshold at Option 2, because in this specific case, we would prefer to incorrectly classify wines of \n",
    "'good' quality as 'bad' by increasing the standards of the model, thereby minimizing the false positive rate, which represents 'bad' quality wines rated as 'good', misclassifications which harm the prestige of the model. "
   ]
  },
  {
   "cell_type": "markdown",
   "metadata": {},
   "source": [
    "There is a linear relationship between the log-odds of the success level of wine quality and a parsimonious model consisting of fixed acidity, volatile acidity, citric acid, pH, chlorides, free sulfur dioxide, total sulfur dioxide, sulphates, and alcohol. This was demonstrated through the construction and application of the parsimonious logistic regression model to a test data set of physiochemical inputs. "
   ]
  },
  {
   "cell_type": "markdown",
   "metadata": {},
   "source": [
    "## Other Classifiers\n",
    "- [Table of Contents](#Table-of-Contents)"
   ]
  },
  {
   "cell_type": "code",
   "execution_count": 52,
   "metadata": {},
   "outputs": [
    {
     "data": {
      "text/html": [
       "<div>\n",
       "<style scoped>\n",
       "    .dataframe tbody tr th:only-of-type {\n",
       "        vertical-align: middle;\n",
       "    }\n",
       "\n",
       "    .dataframe tbody tr th {\n",
       "        vertical-align: top;\n",
       "    }\n",
       "\n",
       "    .dataframe thead th {\n",
       "        text-align: right;\n",
       "    }\n",
       "</style>\n",
       "<table border=\"1\" class=\"dataframe\">\n",
       "  <thead>\n",
       "    <tr style=\"text-align: right;\">\n",
       "      <th></th>\n",
       "      <th>fixed_acidity</th>\n",
       "      <th>volatile_acidity</th>\n",
       "      <th>citric_acid</th>\n",
       "      <th>residual_sugar</th>\n",
       "      <th>chlorides</th>\n",
       "      <th>free_sulfur_dioxide</th>\n",
       "      <th>total_sulfur_dioxide</th>\n",
       "      <th>density</th>\n",
       "      <th>pH</th>\n",
       "      <th>sulphates</th>\n",
       "      <th>alcohol</th>\n",
       "      <th>quality</th>\n",
       "      <th>quality1</th>\n",
       "    </tr>\n",
       "  </thead>\n",
       "  <tbody>\n",
       "    <tr>\n",
       "      <th>0</th>\n",
       "      <td>7.4</td>\n",
       "      <td>0.70</td>\n",
       "      <td>0.00</td>\n",
       "      <td>1.9</td>\n",
       "      <td>0.076</td>\n",
       "      <td>11.0</td>\n",
       "      <td>34.0</td>\n",
       "      <td>0.9978</td>\n",
       "      <td>3.51</td>\n",
       "      <td>0.56</td>\n",
       "      <td>9.4</td>\n",
       "      <td>bad</td>\n",
       "      <td>0</td>\n",
       "    </tr>\n",
       "    <tr>\n",
       "      <th>1</th>\n",
       "      <td>7.8</td>\n",
       "      <td>0.88</td>\n",
       "      <td>0.00</td>\n",
       "      <td>2.6</td>\n",
       "      <td>0.098</td>\n",
       "      <td>25.0</td>\n",
       "      <td>67.0</td>\n",
       "      <td>0.9968</td>\n",
       "      <td>3.20</td>\n",
       "      <td>0.68</td>\n",
       "      <td>9.8</td>\n",
       "      <td>bad</td>\n",
       "      <td>0</td>\n",
       "    </tr>\n",
       "    <tr>\n",
       "      <th>2</th>\n",
       "      <td>7.8</td>\n",
       "      <td>0.76</td>\n",
       "      <td>0.04</td>\n",
       "      <td>2.3</td>\n",
       "      <td>0.092</td>\n",
       "      <td>15.0</td>\n",
       "      <td>54.0</td>\n",
       "      <td>0.9970</td>\n",
       "      <td>3.26</td>\n",
       "      <td>0.65</td>\n",
       "      <td>9.8</td>\n",
       "      <td>bad</td>\n",
       "      <td>0</td>\n",
       "    </tr>\n",
       "    <tr>\n",
       "      <th>3</th>\n",
       "      <td>11.2</td>\n",
       "      <td>0.28</td>\n",
       "      <td>0.56</td>\n",
       "      <td>1.9</td>\n",
       "      <td>0.075</td>\n",
       "      <td>17.0</td>\n",
       "      <td>60.0</td>\n",
       "      <td>0.9980</td>\n",
       "      <td>3.16</td>\n",
       "      <td>0.58</td>\n",
       "      <td>9.8</td>\n",
       "      <td>good</td>\n",
       "      <td>1</td>\n",
       "    </tr>\n",
       "    <tr>\n",
       "      <th>4</th>\n",
       "      <td>7.4</td>\n",
       "      <td>0.70</td>\n",
       "      <td>0.00</td>\n",
       "      <td>1.9</td>\n",
       "      <td>0.076</td>\n",
       "      <td>11.0</td>\n",
       "      <td>34.0</td>\n",
       "      <td>0.9978</td>\n",
       "      <td>3.51</td>\n",
       "      <td>0.56</td>\n",
       "      <td>9.4</td>\n",
       "      <td>bad</td>\n",
       "      <td>0</td>\n",
       "    </tr>\n",
       "  </tbody>\n",
       "</table>\n",
       "</div>"
      ],
      "text/plain": [
       "   fixed_acidity  volatile_acidity  citric_acid  residual_sugar  chlorides  \\\n",
       "0            7.4              0.70         0.00             1.9      0.076   \n",
       "1            7.8              0.88         0.00             2.6      0.098   \n",
       "2            7.8              0.76         0.04             2.3      0.092   \n",
       "3           11.2              0.28         0.56             1.9      0.075   \n",
       "4            7.4              0.70         0.00             1.9      0.076   \n",
       "\n",
       "   free_sulfur_dioxide  total_sulfur_dioxide  density    pH  sulphates  \\\n",
       "0                 11.0                  34.0   0.9978  3.51       0.56   \n",
       "1                 25.0                  67.0   0.9968  3.20       0.68   \n",
       "2                 15.0                  54.0   0.9970  3.26       0.65   \n",
       "3                 17.0                  60.0   0.9980  3.16       0.58   \n",
       "4                 11.0                  34.0   0.9978  3.51       0.56   \n",
       "\n",
       "   alcohol quality  quality1  \n",
       "0      9.4     bad         0  \n",
       "1      9.8     bad         0  \n",
       "2      9.8     bad         0  \n",
       "3      9.8    good         1  \n",
       "4      9.4     bad         0  "
      ]
     },
     "execution_count": 52,
     "metadata": {},
     "output_type": "execute_result"
    }
   ],
   "source": [
    "winedf.head()"
   ]
  },
  {
   "cell_type": "code",
   "execution_count": 53,
   "metadata": {},
   "outputs": [],
   "source": [
    "xtrain, xtest, ytrain, ytest = train_test_split(winedf[['fixed_acidity', 'volatile_acidity', 'citric_acid', \n",
    "                                                           'residual_sugar', 'chlorides', 'free_sulfur_dioxide', \n",
    "                                                           'total_sulfur_dioxide', 'density', 'pH', 'sulphates', 'alcohol']], winedf['quality1'], \n",
    "                                                   test_size = 0.2)\n",
    "xtrainstd = pd.DataFrame(StandardScaler().fit(xtrain).transform(xtrain),\n",
    "                           columns = xtrain.columns,\n",
    "                           index = xtrain.index)"
   ]
  },
  {
   "cell_type": "code",
   "execution_count": 54,
   "metadata": {},
   "outputs": [],
   "source": [
    "## KNN\n",
    "leaf_size = list(range(1, 20))\n",
    "n_neighbors = list(range(1, 20))\n",
    "p = [1, 2]\n",
    "hyperparams = {'leaf_size': leaf_size, 'n_neighbors': n_neighbors, 'p': p}"
   ]
  },
  {
   "cell_type": "code",
   "execution_count": 55,
   "metadata": {},
   "outputs": [],
   "source": [
    "knnc = KNeighborsClassifier()"
   ]
  },
  {
   "cell_type": "code",
   "execution_count": 56,
   "metadata": {},
   "outputs": [],
   "source": [
    "clf = GridSearchCV(knnc, hyperparams, cv = 5)"
   ]
  },
  {
   "cell_type": "code",
   "execution_count": 57,
   "metadata": {},
   "outputs": [],
   "source": [
    "best_params = clf.fit(xtrainstd, ytrain)"
   ]
  },
  {
   "cell_type": "code",
   "execution_count": 58,
   "metadata": {},
   "outputs": [
    {
     "name": "stdout",
     "output_type": "stream",
     "text": [
      "Best leaf_size: 1\n",
      "Best n_neighbors: 13\n",
      "Best p: 1\n"
     ]
    }
   ],
   "source": [
    "print('Best leaf_size:', best_params.best_estimator_.get_params()['leaf_size'])\n",
    "print('Best n_neighbors:', best_params.best_estimator_.get_params()['n_neighbors'])\n",
    "print('Best p:', best_params.best_estimator_.get_params()['p'])"
   ]
  },
  {
   "cell_type": "code",
   "execution_count": 59,
   "metadata": {},
   "outputs": [],
   "source": [
    "knnc = KNeighborsClassifier(n_neighbors = 1, leaf_size = 1, p = 1)"
   ]
  },
  {
   "cell_type": "code",
   "execution_count": 60,
   "metadata": {},
   "outputs": [
    {
     "data": {
      "text/plain": [
       "KNeighborsClassifier(leaf_size=1, n_neighbors=1, p=1)"
      ]
     },
     "execution_count": 60,
     "metadata": {},
     "output_type": "execute_result"
    }
   ],
   "source": [
    "knnc.fit(xtrainstd, ytrain)"
   ]
  },
  {
   "cell_type": "code",
   "execution_count": 61,
   "metadata": {},
   "outputs": [
    {
     "data": {
      "text/plain": [
       "<sklearn.metrics._plot.confusion_matrix.ConfusionMatrixDisplay at 0x7fad1a8f5550>"
      ]
     },
     "execution_count": 61,
     "metadata": {},
     "output_type": "execute_result"
    },
    {
     "data": {
      "image/png": "[encoded data removed]",
      "text/plain": [
       "<Figure size 432x288 with 2 Axes>"
      ]
     },
     "metadata": {
      "needs_background": "light"
     },
     "output_type": "display_data"
    }
   ],
   "source": [
    "plot_confusion_matrix(knnc, xtrainstd, ytrain)"
   ]
  },
  {
   "cell_type": "code",
   "execution_count": 62,
   "metadata": {},
   "outputs": [
    {
     "name": "stdout",
     "output_type": "stream",
     "text": [
      "1.0\n"
     ]
    }
   ],
   "source": [
    "print(knnc.score(xtrainstd, ytrain))"
   ]
  },
  {
   "cell_type": "code",
   "execution_count": 63,
   "metadata": {},
   "outputs": [],
   "source": [
    "xteststd = pd.DataFrame(StandardScaler().fit(xtest).transform(xtest),\n",
    "                           columns = xtest.columns,\n",
    "                           index = xtest.index)"
   ]
  },
  {
   "cell_type": "code",
   "execution_count": 64,
   "metadata": {},
   "outputs": [
    {
     "data": {
      "text/plain": [
       "KNeighborsClassifier(leaf_size=1, n_neighbors=1, p=1)"
      ]
     },
     "execution_count": 64,
     "metadata": {},
     "output_type": "execute_result"
    }
   ],
   "source": [
    "knnc.fit(xteststd, ytest)"
   ]
  },
  {
   "cell_type": "code",
   "execution_count": 65,
   "metadata": {},
   "outputs": [
    {
     "data": {
      "text/plain": [
       "<sklearn.metrics._plot.confusion_matrix.ConfusionMatrixDisplay at 0x7fad1a923850>"
      ]
     },
     "execution_count": 65,
     "metadata": {},
     "output_type": "execute_result"
    },
    {
     "data": {
      "image/png": "[encoded data removed]",
      "text/plain": [
       "<Figure size 432x288 with 2 Axes>"
      ]
     },
     "metadata": {
      "needs_background": "light"
     },
     "output_type": "display_data"
    }
   ],
   "source": [
    "plot_confusion_matrix(knnc, xteststd, ytest)"
   ]
  },
  {
   "cell_type": "code",
   "execution_count": 66,
   "metadata": {},
   "outputs": [
    {
     "name": "stdout",
     "output_type": "stream",
     "text": [
      "1.0\n"
     ]
    }
   ],
   "source": [
    "print(knnc.score(xteststd, ytest))"
   ]
  },
  {
   "cell_type": "markdown",
   "metadata": {},
   "source": [
    "## Conclusion\n",
    "- [Table of Contents](#Table-of-Contents)"
   ]
  },
  {
   "cell_type": "markdown",
   "metadata": {},
   "source": [
    "Summarization: In conclusion, there is a relationship between fixed and volatile acidities, which is influenced by the quality of wine. For example, fixed acidity levels are higher in good quality wine than in bad quality wine, while volatile acidity levels are higher in bad wines than in good ones. The inverse relationship of these two physiochemical variables contributes to the strength of bitter, sweet, and vinegary flavors in the wine. There is no difference between the mean pH of 'bad' quality red wines and the mean pH of 'good' quality red wines in this dataset. This inference test showed that pH may not serve as a useful feature in classifying wine quality, which was confirmed in backwards elimination testing during the logistic regression model component of the project. We discovered a linear relationship between pH and chlorides, sulfates, volatile acidity, and fixed acidity in the sample and in the relevant population through testing a linear model. Lastly, we observed a linear relationship between the log-odds of the success level of wine quality and a parsimonious model consisting of fixed acidity, volatile acidity, citric acid, residual sugar, chlorides, free sulfur dioxide, total sulfur dioxide, sulphates, and alcohol. We chose to select a classification threshold that minimized the false positive rate and raised the bar of a 'good' wine. "
   ]
  },
  {
   "cell_type": "markdown",
   "metadata": {},
   "source": [
    "Future Work: Future research in this area could relate to the expansion of the data to more wine types, such as white or sparkling varieties. In addition, other features such as region, grape type, vintage, and brand could be useful factors to calibrating a model with stronger predictive power. "
   ]
  },
  {
   "cell_type": "markdown",
   "metadata": {},
   "source": [
    "## Sources\n",
    "- [Table of Contents](#Table-of-Contents)"
   ]
  },
  {
   "cell_type": "markdown",
   "metadata": {},
   "source": [
    "The dataset: https://www.kaggle.com/datasets/nareshbhat/wine-quality-binary-classification\n",
    "\n",
    "Research materials: https://www.scitepress.org/Papers/2015/55519/55519.pdf, https://ageconsearch.umn.edu/record/37328?ln=en"
   ]
  }
 ],
 "metadata": {
  "kernelspec": {
   "display_name": "Python 3",
   "language": "python",
   "name": "python3"
  },
  "language_info": {
   "codemirror_mode": {
    "name": "ipython",
    "version": 3
   },
   "file_extension": ".py",
   "mimetype": "text/x-python",
   "name": "python",
   "nbconvert_exporter": "python",
   "pygments_lexer": "ipython3",
   "version": "3.8.5"
  }
 },
 "nbformat": 4,
 "nbformat_minor": 4
}
